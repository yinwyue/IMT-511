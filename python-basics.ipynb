{
 "cells": [
  {
   "cell_type": "markdown",
   "metadata": {},
   "source": [
    "# a2 - Python Basics\n",
    "Fill in the below code cells as specified. Note that cells may utilize variables and functions defined in previous cells; we should be able to use the `Kernal > Restart & Clear All` menu item followed by `Cell > Run All` to execute your entire notebook and see the correct output."
   ]
  },
  {
   "cell_type": "markdown",
   "metadata": {},
   "source": [
    "## Part 1. Introductions"
   ]
  },
  {
   "cell_type": "markdown",
   "metadata": {},
   "source": [
    "Create a variable **`my_name`** that stores your name (a string)."
   ]
  },
  {
   "cell_type": "code",
   "execution_count": 1,
   "metadata": {},
   "outputs": [],
   "source": [
    "my_name = \"Wenyue Yin\""
   ]
  },
  {
   "cell_type": "markdown",
   "metadata": {},
   "source": [
    "Create a variable **`my_age`** that stores your age (as a number)."
   ]
  },
  {
   "cell_type": "code",
   "execution_count": 3,
   "metadata": {},
   "outputs": [],
   "source": [
    "my_age = 23"
   ]
  },
  {
   "cell_type": "markdown",
   "metadata": {},
   "source": [
    "Define a function **`make_introduction()`** that takes in two arguments: a name and an age. The function should _return_ a string of the format `\"Hello, my name is {NAME} and I'm {AGE} years old.\"` (replacing `{NAME}` and `{AGE}` with the arguments).\n",
    "- Note that you can turn a number into a string using the built-in `str()` function. "
   ]
  },
  {
   "cell_type": "code",
   "execution_count": 8,
   "metadata": {},
   "outputs": [],
   "source": [
    "def make_introduction(name,age):\n",
    "    return(\"Hello, my name is \"+ name + \" and I'm \" + str(age) + \" years old\")"
   ]
  },
  {
   "cell_type": "markdown",
   "metadata": {},
   "source": [
    "Create a variable **`my_intro`** by passing your variables `my_name` and `my_age` into your `make_introduction()` function. Print the variable after you create it."
   ]
  },
  {
   "cell_type": "code",
   "execution_count": 9,
   "metadata": {},
   "outputs": [
    {
     "name": "stdout",
     "output_type": "stream",
     "text": [
      "Hello, my name is Wenyue Yin and I'm 23 years old\n"
     ]
    }
   ],
   "source": [
    "my_intro = make_introduction(my_name, my_age)\n",
    "print (my_intro)"
   ]
  },
  {
   "cell_type": "markdown",
   "metadata": {},
   "source": [
    "Create a variable **`loud_intro`**, which is your `my_intro` variable with all of the letters capitalized (use the `upper()` string method). Print the variable after you create it."
   ]
  },
  {
   "cell_type": "code",
   "execution_count": 11,
   "metadata": {},
   "outputs": [
    {
     "name": "stdout",
     "output_type": "stream",
     "text": [
      "HELLO, MY NAME IS WENYUE YIN AND I'M 23 YEARS OLD\n"
     ]
    }
   ],
   "source": [
    "loud_intro = my_intro.upper()\n",
    "print(loud_intro)"
   ]
  },
  {
   "cell_type": "markdown",
   "metadata": {},
   "source": [
    "Create a variable **`casual_intro`** by using the `replace()` string function to replace (substitute) \"Hello, my name is\", with \"Hey, I'm\" in your `my_intro` variable. You may need to look up the arguments for this function! Print the variable after you create it."
   ]
  },
  {
   "cell_type": "code",
   "execution_count": 14,
   "metadata": {},
   "outputs": [
    {
     "name": "stdout",
     "output_type": "stream",
     "text": [
      "Hey, I'm Wenyue Yin and I'm 23 years old\n"
     ]
    }
   ],
   "source": [
    "casual_intro = my_intro.replace(\"Hello, my name is\", \"Hey, I'm\")\n",
    "print(casual_intro)"
   ]
  },
  {
   "cell_type": "markdown",
   "metadata": {},
   "source": [
    "Create a variable `intro_e_count` that stores the number of times the letter `'e'` (lower-case only) appears in the `my_intro` variable. Find a [string method](https://docs.python.org/3/library/stdtypes.html#string-methods) that will \"count\" the occurences. Print the variable after you create it."
   ]
  },
  {
   "cell_type": "code",
   "execution_count": 15,
   "metadata": {},
   "outputs": [
    {
     "name": "stdout",
     "output_type": "stream",
     "text": [
      "5\n"
     ]
    }
   ],
   "source": [
    "intro_e_count = my_intro.count(\"e\")\n",
    "print(intro_e_count)"
   ]
  },
  {
   "cell_type": "markdown",
   "metadata": {},
   "source": [
    "## Part 2. Money"
   ]
  },
  {
   "cell_type": "markdown",
   "metadata": {},
   "source": [
    "Define a function **`compound_interest()`** that takes three numbers as arguments: an initial bank balance (principle, in dollars), an annual interest rate (as a decimal, so use .05 as 5%), and a number of years. The function should calculate the [continuous compound interest](https://en.wikipedia.org/wiki/Compound_interest#Continuous_compounding) and _return_ the resulting total balance after that many number of years.\n",
    "- See [here](http://www.mathwarehouse.com/calculators/continuous-compound-interest-calculator.php) for an example of the formula and a calculator you can use to check your work.\n",
    "- Be sure and call your function with some testing numbers: \\\\$1000 at 6% for 5 years should lead to a balance of \\\\$1349.86.\n",
    "- You will need to import the `math` module for mathematical functions."
   ]
  },
  {
   "cell_type": "code",
   "execution_count": 21,
   "metadata": {},
   "outputs": [],
   "source": [
    "import math\n",
    "def compound_interest(initial,rate,year):\n",
    "    interest = initial * math.pow(math.e, rate * year)\n",
    "    return interest\n"
   ]
  },
  {
   "cell_type": "markdown",
   "metadata": {},
   "source": [
    "Define a function **`print_earnings()`** that takes three numbers as arguments: an initial principle, an annual interest rate (as a decimal, so use .05 as 5%), and a number of years. This function should _print out_ the earnings over this period in the following format:\n",
    "\n",
    "```\n",
    "Initial principle: $1000\n",
    "Annual interest rate: %6.0\n",
    "Interest earned in 5 years: $349.86\n",
    "Total value after 5 years: $1349.86\n",
    "```\n",
    "\n",
    "You _must_ use your previous `compound_interest()` function to calculate the amounts; don't write the same equation more than once! Note that interest rate should be printed as a percentage, monetary values should have a leading `$`, and you should _round_ monetary values to the nearest penny. Don't worry about extra or missing trailing 0s (in values like `%6.0` or `$101.5`)."
   ]
  },
  {
   "cell_type": "code",
   "execution_count": 25,
   "metadata": {},
   "outputs": [
    {
     "name": "stdout",
     "output_type": "stream",
     "text": [
      "Initial principle: $1000\n",
      "Annual interest rate: %6.0\n",
      "Interest earned in 5 years: $349.86\n",
      "Total value after 5 years: $1349.86\n"
     ]
    }
   ],
   "source": [
    "def print_earning(initial,rate,year):\n",
    "    print(\"Initial principle: $\" + str(initial))\n",
    "    print(\"Annual interest rate: %\" + str(round(rate * 100,1)))\n",
    "    print(\"Interest earned in 5 years: $\" + str(round(compound_interest(initial,rate,year) - initial,2)))\n",
    "    print(\"Total value after 5 years: $\" + str(round(compound_interest(initial,rate,year),2)))\n",
    "print_earning(1000,0.06,5)"
   ]
  },
  {
   "cell_type": "markdown",
   "metadata": {},
   "source": [
    "Define a function **`value_of_change()`** that takes in **named** arguments representing amounts of different US coins (`quarters`, `dimes`, `nickels`, and `pennies`)--each of the arguments should have a default value of `0`. The function should _return_ the total value in dollars of those coins. For example, 5 quarters, 4 dimes, 3, nickels, and 2 pennies have a value of `1.82` dollars. \n",
    "- Hint: add up all of the \"cents\" and then convert that into a number of dollars"
   ]
  },
  {
   "cell_type": "code",
   "execution_count": 27,
   "metadata": {},
   "outputs": [],
   "source": [
    "def value_of_change(quarters = 0, dimes = 0, nickels = 0, pennies = 0):\n",
    "    cents = quarters * 25 + dimes * 10 + nickels * 5 + pennies\n",
    "    return(cents/100)\n"
   ]
  },
  {
   "cell_type": "markdown",
   "metadata": {},
   "source": [
    "Define a function **`consolidate_change`** that takes as arguments counts of different US coins (similar to the previous function) and prints out the _simplest_ number of bills and coins needed to make that amount.\n",
    "\n",
    "For example, when called with arguments of 10 quarters, 9 dimes, 8 nickels, and 7 pennies, the function should print:\n",
    "\n",
    "```\n",
    "Number of dollars: 3\n",
    "Number of quarters: 3\n",
    "Number of dimes: 1\n",
    "Number of nickels: 0\n",
    "Number of pennies: 2\n",
    "Total amount: $3.87\n",
    "```\n",
    "\n",
    "You _must_ use your previous `value_of_change()` method in this calculation to determine the total amount. \n",
    "- _Hint:_ think about converting the coins to a giant pile of pennies, and then determining how many (whole number) dollars you can divide them into. Then put those pennies aside, and determine how many (whole number) quarters you can make with the rest, etc."
   ]
  },
  {
   "cell_type": "code",
   "execution_count": 32,
   "metadata": {
    "scrolled": true
   },
   "outputs": [],
   "source": [
    "def consolidate_change(quarters = 0, dimes = 0, nickels = 0, pennies = 0):\n",
    "    cents = quarters * 25 + dimes * 10 + nickels * 5 + pennies\n",
    "    dol = cents // 100\n",
    "    cent_do = cents % 100\n",
    "    quar = cent_do // 25\n",
    "    cent_qu = cent_do % 25\n",
    "    dime = cent_qu // 10\n",
    "    cent_di = cent_qu % 10\n",
    "    nick = cent_di // 5\n",
    "    cent_ni = cent_di% 5\n",
    "    print(\"Number of dollars: \", str(dol))\n",
    "    print(\"Number of quarters: \", str(quar))\n",
    "    print(\"Number of dimes: \", str(dime))\n",
    "    print(\"Number of nickels: \", str(nick))\n",
    "    print(\"Number of pennies: \", str(cent_ni))\n",
    "    print(\"Total amount: $\", value_of_change(quarters = quarters, dimes = dimes, nickels = nickels, pennies = pennies))"
   ]
  },
  {
   "cell_type": "markdown",
   "metadata": {},
   "source": [
    "## Part 3. Time\n",
    "Note: this is the hardest part of the assignment! Plan accordingly."
   ]
  },
  {
   "cell_type": "markdown",
   "metadata": {},
   "source": [
    "Use the [date()](https://docs.python.org/3/library/datetime.html#datetime.date) function from the `datetime` module to create a variable **`winter_break`** that represents the first day of Winter break (December 14, 2019). Note that this function will return a value of type `date` (not a string or a number)."
   ]
  },
  {
   "cell_type": "code",
   "execution_count": 38,
   "metadata": {},
   "outputs": [],
   "source": [
    "import datetime\n",
    "winter_break = datetime.date (2019,12,14)"
   ]
  },
  {
   "cell_type": "markdown",
   "metadata": {},
   "source": [
    "Create a variable **`today`** that represents the [current date](https://docs.python.org/3/library/datetime.html#datetime.date.today)."
   ]
  },
  {
   "cell_type": "code",
   "execution_count": 44,
   "metadata": {},
   "outputs": [],
   "source": [
    "today = datetime.date.today()"
   ]
  },
  {
   "cell_type": "markdown",
   "metadata": {},
   "source": [
    "Create a variable **`days_to_break`** that is how many days from the _current date_ until Winter break. _Hint:_ subtract the date variables you just made! Print the variable after you create it; your printed output can include a `00:00:00` timestamp. `days_to_break` will be a `timedelta` value (a difference in time), not a string!"
   ]
  },
  {
   "cell_type": "code",
   "execution_count": 47,
   "metadata": {},
   "outputs": [
    {
     "name": "stdout",
     "output_type": "stream",
     "text": [
      "63 days, 0:00:00\n"
     ]
    }
   ],
   "source": [
    "days_to_break = winter_break - today\n",
    "print(days_to_break)"
   ]
  },
  {
   "cell_type": "markdown",
   "metadata": {},
   "source": [
    "Define a function **`can_vote_us()`** that takes as an argument a birth date (as a `date` value). This function should _return_ the `date` in which a person born on that day can legally vote in the US (i.e., when they turn 18 years old).\n",
    "\n",
    "In order to calculate this date, you should use the [dateutil.relativedelta](https://dateutil.readthedocs.io/en/stable/relativedelta.html) module, which is included with Anaconda. You will need to import the `relativedelta` function from this module, which will let you specify a \"time change\" in terms of years (using a named argument) that can then be added (`+`) to a `date` value. See [the examples](https://dateutil.readthedocs.io/en/stable/examples.html#relativedelta-examples) for details.\n",
    "\n",
    "Demonstrate your function works by printing out when someone born _today_ will be able to vote."
   ]
  },
  {
   "cell_type": "code",
   "execution_count": 61,
   "metadata": {},
   "outputs": [],
   "source": [
    "from dateutil.relativedelta import relativedelta\n",
    "def can_vote_us(birthdate):\n",
    "    legalyear = birthdate + relativedelta(years = 18) \n",
    "    return legalyear\n"
   ]
  },
  {
   "cell_type": "markdown",
   "metadata": {},
   "source": [
    "Define a function **`make_birthday_announcement()`** that takes in two arguments: a name (as a `string`), and a date of birth (as a`date`--not a string!). This function should _return_ a string of the format `\"{NAME}'s birthday is in {N} days\"` (replacing `{NAME}` with the argument, and `{N}` with the number of days rom today until the person's _next_ birthday).\n",
    "\n",
    "This algorithm can be a bit tricky! A few tips:\n",
    "- If you use the `relativedelta()` function rather than the subtraction operator to produce a \"time difference\", you'll be able to extract the number of days or years in that difference by by accessing the `.days` or `.years` properties (e.g., `time_difference.years`).\n",
    "- Once you've determined how many years old the person _currently_ is, you can use that number to figure out the date that they turn one year older (similar to how you calculated voting age).\n",
    "- You can then calculate the time difference between the their next birthday and today, using the `relativedelta()` function so that you can access the number of `.days` in that difference.\n",
    "\n",
    "Other approaches are also acceptable; the goal here is to practice with algorithmic approaches and functions!"
   ]
  },
  {
   "cell_type": "code",
   "execution_count": 78,
   "metadata": {},
   "outputs": [],
   "source": [
    "def make_birthday_announcement(name,birthdate):\n",
    "    age = relativedelta(today, birthdate).years\n",
    "    year = relativedelta(years = age + 1)\n",
    "    delta_month = relativedelta(birthdate + year, today).months\n",
    "    delta = relativedelta(birthdate + year, today).days\n",
    "    return name + \"\\'s birthday is in \" + str(delta_month) + \" months and \" + str(delta) + \" days\"\n",
    "    "
   ]
  },
  {
   "cell_type": "markdown",
   "metadata": {},
   "source": [
    "Create a variable **`my_bday_announcement`** by calling your `make_birthday_announcement()` function and passing in your name (use your existing variable!) and your birthdate. Print the variable after you create it."
   ]
  },
  {
   "cell_type": "code",
   "execution_count": 79,
   "metadata": {},
   "outputs": [
    {
     "name": "stdout",
     "output_type": "stream",
     "text": [
      "Wenyue Yin's birthday is in 8 months and 11 days\n"
     ]
    }
   ],
   "source": [
    "my_bday_announcement = make_birthday_announcement(my_name, datetime.date(1996,6,23))\n",
    "\n",
    "print (my_bday_announcement)"
   ]
  },
  {
   "cell_type": "code",
   "execution_count": null,
   "metadata": {},
   "outputs": [],
   "source": []
  }
 ],
 "metadata": {
  "kernelspec": {
   "display_name": "Python 3",
   "language": "python",
   "name": "python3"
  },
  "language_info": {
   "codemirror_mode": {
    "name": "ipython",
    "version": 3
   },
   "file_extension": ".py",
   "mimetype": "text/x-python",
   "name": "python",
   "nbconvert_exporter": "python",
   "pygments_lexer": "ipython3",
   "version": "3.7.0"
  }
 },
 "nbformat": 4,
 "nbformat_minor": 2
}
