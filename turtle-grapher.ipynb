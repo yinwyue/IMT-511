{
 "cells": [
  {
   "cell_type": "markdown",
   "metadata": {},
   "source": [
    "# a4 - Data Grapher!\n",
    "In this assignment you will be using Python's [**turtle**](https://docs.python.org/3/library/turtle.html) module to create a program that can visualize a _time series_ of data drawn from a CSV file.\n",
    "\n",
    "Fill in the below code cells as specified to implement this program. Note that cells may utilize variables and functions defined in previous cells."
   ]
  },
  {
   "cell_type": "markdown",
   "metadata": {},
   "source": [
    "## Setup\n",
    "Run the below cell in order to load the `turtle` module (and some additional helper functions)."
   ]
  },
  {
   "cell_type": "code",
   "execution_count": 1,
   "metadata": {
    "scrolled": true
   },
   "outputs": [
    {
     "data": {
      "application/vnd.jupyter.widget-view+json": {
       "model_id": "b64e8dd0a6424d45bcd4a266bbb78005",
       "version_major": 2,
       "version_minor": 0
      },
      "text/plain": [
       "HBox(children=(Button(description='Stop Turtle', style=ButtonStyle()), Button(description='Save Drawing', styl…"
      ]
     },
     "metadata": {},
     "output_type": "display_data"
    }
   ],
   "source": [
    "import turtle as turtle_module # import module\n",
    "from ipywidgets import widgets # for buttons\n",
    "\n",
    "def make_turtle(width, height, title):\n",
    "    \"\"\" Create a turtle on a window with given width, height, title\n",
    "    \"\"\"\n",
    "    t = turtle_module.Turtle()\n",
    "    t.getscreen().title(title)\n",
    "    t.getscreen().setup(width, height)\n",
    "    t.getscreen().setworldcoordinates(0, 0, width, height)\n",
    "    return t\n",
    "\n",
    "def stop_turtle():\n",
    "    \"\"\" Stops the currently running turtle window, to be closed manually\n",
    "    \"\"\"\n",
    "    turtle_module.done() # stop the mainloop\n",
    "    turtle_module.TurtleScreen._RUNNING = True # manually indicate it's stopped to enable repeat\n",
    "\n",
    "def save_drawing():\n",
    "    \"\"\" For fun: saves a copy of the drawing done on the canvas, \n",
    "        in both .eps and .png format\n",
    "    \"\"\"\n",
    "    cv = turtle.getscreen().getcanvas()\n",
    "    cv.postscript(file=\"turtle_chart.eps\", colormode='color')\n",
    "    from PIL import Image\n",
    "    img = Image.open(\"turtle_chart.eps\") \n",
    "    img.save(\"turtle_chart.png\", \"png\")    \n",
    "    \n",
    "    \n",
    "stop_button = widgets.Button(description = \"Stop Turtle\")\n",
    "stop_button.on_click(lambda e: stop_turtle())\n",
    "save_button = widgets.Button(description = \"Save Drawing\")\n",
    "save_button.on_click(lambda e: save_drawing())\n",
    "display(widgets.HBox([stop_button, save_button]))"
   ]
  },
  {
   "cell_type": "markdown",
   "metadata": {},
   "source": [
    "You can use the **`make_turtle()`** function to create the window for the turtle to draw in. This function takes as arguments the size and title for the window. You can run the below cell as an example; feel free to adjust the window size if you wish.\n",
    "- Note that for your convenience, the turtle \"starts\" at the lower button corner, which is treated as coordinates (0,0).\n",
    "\n",
    "Note that this function returns a reference to the turtle object that you will need to call methods on to move."
   ]
  },
  {
   "cell_type": "code",
   "execution_count": 3,
   "metadata": {},
   "outputs": [],
   "source": [
    "# arguments: window width, window height, window title\n",
    "turtle = make_turtle(800, 600, \"Turtle Chart\")\n",
    "turtle.speed(10) # use this method to change how fast the turtle moves. See documentation."
   ]
  },
  {
   "cell_type": "markdown",
   "metadata": {},
   "source": [
    "You can call methods on the turtle object in order to use it to draw (for example `turtle.forward(10)`). If you want to \"clear\" your drawing, use the `turtle.reset()` method. Note that many cells include calls to reset the drawing so that you can test each one \"fresh\"."
   ]
  },
  {
   "cell_type": "markdown",
   "metadata": {},
   "source": [
    "In order to close the window, you will **first need to \"stop\"** the turtle program. You can do this by calling the provided `stop_turtle()` function, or by clicking the button above. You will then need to **close the window** (by clicking on the red x in the corner). You can re-create the window by re-running the `make_turtle()` function."
   ]
  },
  {
   "cell_type": "code",
   "execution_count": null,
   "metadata": {},
   "outputs": [],
   "source": [
    "# You can also click the above button instead of running this cell!\n",
    "#stop_turtle()"
   ]
  },
  {
   "cell_type": "markdown",
   "metadata": {},
   "source": [
    "If you have any problems, you can use the `Kernel > Restart & Clear Output` menu option to restart the entire program."
   ]
  },
  {
   "cell_type": "markdown",
   "metadata": {},
   "source": [
    "## Part 1. Chart Axes\n",
    "In the first set of steps, you'll write functions to draw the x- and y- axes for the chart. This will let you practice using the turtle, as well as doing some basic looping."
   ]
  },
  {
   "cell_type": "markdown",
   "metadata": {},
   "source": [
    "Define a function **`draw_y_axis_line()`**. This function should move the turtle to the \"bottom left corner\" of the chart, and then use it to draw a vertical line to represent the y-axis.\n",
    "- I have provided some variabls that you can use to measure both the size of the chart area, as well as the coordinates of the bottom corner. These make sure there is some space on the sides of the chart for labels, etc. You are welcome to change the values of these variables if you wish.\n",
    "- _Tip:_ The turtle's [goto()](https://docs.python.org/3/library/turtle.html#turtle.goto) method can be really useful for this assignment."
   ]
  },
  {
   "cell_type": "code",
   "execution_count": 4,
   "metadata": {},
   "outputs": [],
   "source": [
    "# Variables you can use to size your chart\n",
    "CHART_HEIGHT = 500\n",
    "CHART_WIDTH = 600\n",
    "X_ORIGIN = 80\n",
    "Y_ORIGIN = 50\n",
    "\n",
    "# your code here!\n",
    "def draw_y_axis_line():\n",
    "    turtle.penup()\n",
    "    turtle.goto(X_ORIGIN, Y_ORIGIN)\n",
    "    turtle.pendown()\n",
    "    turtle.goto(X_ORIGIN, Y_ORIGIN + CHART_HEIGHT)\n",
    "\n",
    "\n"
   ]
  },
  {
   "cell_type": "code",
   "execution_count": 5,
   "metadata": {},
   "outputs": [],
   "source": [
    "# You can run this cell to test your function!\n",
    "#turtle.reset() # clear previous test\n",
    "draw_y_axis_line()\n",
    "# call your function here to test it!\n"
   ]
  },
  {
   "cell_type": "markdown",
   "metadata": {},
   "source": [
    "Define a function **`draw_y_axis_ticks()`**. This function should move the turtle to bottom corner of the chart, and then use it to draw 11 equally spaced \"tick marks\" (height indicators) on the y axis line. There should be tick marks at the very bottom and very top of the line. You must use a **loop** to do this; do not write the same code 10 times!\n",
    "- Even with the loop, controlling the turtle can take a lot of commands so this function may get long\n",
    "- When testing, I recommend you call your `draw_y_axis_line()` function first so you can make sure the tick marks are where you want them to be!"
   ]
  },
  {
   "cell_type": "code",
   "execution_count": 6,
   "metadata": {},
   "outputs": [],
   "source": [
    "def draw_y_axis_ticks():\n",
    "    turtle.penup()\n",
    "    turtle.goto(X_ORIGIN, Y_ORIGIN)\n",
    "    turtle.left(180)\n",
    "    turtle.pendown()\n",
    "    tick_space = CHART_HEIGHT/10\n",
    "    Y_tick = Y_ORIGIN\n",
    "    for tick in range(1,12):\n",
    "        turtle.forward(5)\n",
    "        turtle.penup()\n",
    "        Y_tick = Y_tick + tick_space\n",
    "        turtle.goto(X_ORIGIN, Y_tick)\n",
    "        turtle.pendown()\n",
    "\n"
   ]
  },
  {
   "cell_type": "code",
   "execution_count": 7,
   "metadata": {},
   "outputs": [],
   "source": [
    "# You can run this cell to test your function!\n",
    "#turtle.reset() # clear previous test\n",
    "draw_y_axis_ticks()\n",
    "# call your function here to test it!\n"
   ]
  },
  {
   "cell_type": "markdown",
   "metadata": {},
   "source": [
    "Define a function **`draw_y_axis_labels()`**. The function should move the turtle to the bottom corner of the chart and then draw a percent label between 0% and 100% to the left of each of the y axis tick marks. So it should have a 0% at the bottom, then a 10%, then a 20%, etc., with a 100% at the top. You must use a **loop** to do this; do not write the same code 10 times!\n",
    "- This method will look similar in structure to your `draw_y_axis_ticks()` function.\n",
    "- You use the turtle's [write()](https://docs.python.org/3/library/turtle.html#turtle.write) method to have it draw text!\n",
    "- The default font that the turtle draws text with is rather small. You can make it more readable by passing in a _triple_ to the `write()` method's `font` argument. For example, `turtle.write(\"message\", font=(\"Arial\", 14, \"normal\"))` would have it write \"message\" in 14pt Arial.\n",
    "- Again, when testing, I recommend you call your `draw_y_axis_line()` and `draw_y_axis_ticks()` functions first so you can make sure the labels are where you want them to be!"
   ]
  },
  {
   "cell_type": "code",
   "execution_count": 8,
   "metadata": {},
   "outputs": [],
   "source": [
    "def draw_y_axis_labels():\n",
    "    turtle.penup()\n",
    "    turtle.goto(X_ORIGIN - 40, Y_ORIGIN)\n",
    "    turtle.pendown()\n",
    "    tick_space = CHART_HEIGHT/10\n",
    "    Y_tick = Y_ORIGIN\n",
    "    percentage = 0\n",
    "    for tick in range(1,12):\n",
    "        turtle.write(str(percentage) + '%')\n",
    "        turtle.penup()\n",
    "        percentage = percentage + 10\n",
    "        Y_tick = Y_tick + tick_space\n",
    "        turtle.goto(X_ORIGIN - 40, Y_tick)\n",
    "        turtle.pendown()\n",
    "\n"
   ]
  },
  {
   "cell_type": "code",
   "execution_count": null,
   "metadata": {},
   "outputs": [],
   "source": [
    "# You can run this cell to test your function!\n",
    "#turtle.reset() # clear previous test\n",
    "draw_y_axis_labels()  \n",
    "# call your function here to test it!\n"
   ]
  },
  {
   "cell_type": "markdown",
   "metadata": {},
   "source": [
    "Define a function **`draw_x_axis()`** (that's `x`, not `y`!). This function should take in as an _argument_ a **list** of values that will go on the x-axis. The function should move the turtle to the bottom corner of the chart and then draw the complete x-axis (horizontal), with tick marks and labels.\n",
    "- This function will work very similarly to the above steps. You are welcome to create additional \"helper functions\" (e.g., `draw_x_axis_ticks()`) if you wish. But you will still need to have a single `draw_x_axis()` function that calls those helpers.\n",
    "- You should test this function by passing in a list of values (e.g., `[1995, 2000, 2005, 2010, 2015]`). Note that you can use a **`range()`** to very quickly produce a long list of numbers (such as every year from 1990 to 2018).\n",
    "- As an _optional_ extra challenge, make sure that for large lists of values that the labels do not overlap. You should do this by only labeling _some_ of the tick marks (e.g., every other one), or by rotating the text (the turtle's facing)."
   ]
  },
  {
   "cell_type": "code",
   "execution_count": 9,
   "metadata": {},
   "outputs": [],
   "source": [
    "def draw_x_axis_line():\n",
    "    turtle.penup()\n",
    "    turtle.goto(X_ORIGIN, Y_ORIGIN)\n",
    "    turtle.pendown()\n",
    "    turtle.goto(X_ORIGIN + CHART_WIDTH, Y_ORIGIN)\n",
    "    \n",
    "def draw_x_axis_ticks(list_year):\n",
    "    turtle.penup()\n",
    "    turtle.goto(X_ORIGIN, Y_ORIGIN)\n",
    "    turtle.left(90)\n",
    "    turtle.pendown()\n",
    "    year_num = len(list_year)\n",
    "    tick_space = CHART_WIDTH/(year_num-1)\n",
    "    X_tick = X_ORIGIN\n",
    "    for tick in range(1,year_num+1):\n",
    "        turtle.forward(5)\n",
    "        turtle.penup()\n",
    "        X_tick = X_tick + tick_space\n",
    "        turtle.goto(X_tick, Y_ORIGIN)\n",
    "        turtle.pendown()\n",
    "        \n",
    "def draw_x_axis_labels(list_year):\n",
    "    turtle.penup()\n",
    "    turtle.goto(X_ORIGIN -5 , Y_ORIGIN - 20)\n",
    "    turtle.pendown()\n",
    "    year_num = len(list_year)\n",
    "    tick_space = CHART_WIDTH/(year_num-1)\n",
    "    X_tick = X_ORIGIN\n",
    "    for tick in range(1,year_num+1):\n",
    "        turtle.write(str(list_year[tick-1]))\n",
    "        turtle.penup()\n",
    "        X_tick = X_tick + tick_space\n",
    "        turtle.goto(X_tick - 10, Y_ORIGIN -20)\n",
    "        turtle.pendown()\n",
    "        \n",
    "def draw_x_axis(list_year):\n",
    "    draw_x_axis_line()\n",
    "    draw_x_axis_ticks(list_year)\n",
    "    draw_x_axis_labels(list_year)\n"
   ]
  },
  {
   "cell_type": "code",
   "execution_count": 10,
   "metadata": {},
   "outputs": [],
   "source": [
    "# You can run this cell to test your function!\n",
    "    \n",
    "list_year = [1995, 2000, 2005, 2010, 2015]\n",
    "draw_x_axis(list_year)\n",
    "\n",
    "# call your function here to test it!\n"
   ]
  },
  {
   "cell_type": "markdown",
   "metadata": {},
   "source": [
    "Be sure to call all of your \"draw axis\" methods to test that your entire chart looks correct!"
   ]
  },
  {
   "cell_type": "markdown",
   "metadata": {},
   "source": [
    "## Part 2. Reading Data\n",
    "In this next step you will read in some data to draw in your chart&mdash;initially to specify the values on the axes.\n",
    "\n",
    "You will be reading data from a [**.csv**](https://en.wikipedia.org/wiki/Comma-separated_values) file: a plain-text data format where each line represents a record (row) of data and where feature (column) is separated by a comma. In particular, your program will be able to handle `.csv` files that include a header row, where the first feature (column) is a \"label\" for a record, and the rest of the columns are numeric values (such as a time series).\n",
    "- This assignment comes with a `test.csv` file for you to test with, found inside the `data/` folder, that contains arbitrary testing data. I recommend you use this to test your work as you write your program. The `data/` folder also has data files `us-wealth-share-partial.csv` and `us-wealth-share-full.csv` which contain historical data about the distribution of wealth in the United States ([source](http://gabriel-zucman.eu/usdina/))."
   ]
  },
  {
   "cell_type": "markdown",
   "metadata": {},
   "source": [
    "The first step is to read the file and get the list of features from the \"header\" row. For a time series, this will be a list of the \"years\" included.\n",
    "\n",
    "Define a function **`get_years_from_file()`** that takes in a _**relative** file path_ to a csv file (a string such as \"data/test.csv\"). This function should open that file, read the first line of content (try using the [readline()](https://docs.python.org/3/library/io.html#io.IOBase.readline) function), [split](https://docs.python.org/3/library/stdtypes.html#str.split) the values into a list. Because the first value (e.g., \"group\") represents the row category and not a year, you'll need to \"remove\" that element from the list. Finally, ***return*** the year values (as a **list**). \n",
    "\n",
    "- Be sure to use a `with` block when opening the file!\n",
    "- You'll need to remove the \"new line\" (`\\n`) character from the end of the line; you can use the [strip()](https://docs.python.org/3/library/stdtypes.html#str.strip) method to do this.\n",
    "- Note that you should *not* use list comprehensions anywhere in this assignment (anything that has a `for` inside of `[]`). Write out the for loop independently.\n",
    "\n",
    "You can test your function by opening the `data/test.csv` file. You should get a list of years: `['1990', '1991', '1992', '1993', '1994', '1995', '1996']`."
   ]
  },
  {
   "cell_type": "code",
   "execution_count": 11,
   "metadata": {},
   "outputs": [],
   "source": [
    "def get_years_from_file(path):\n",
    "    with open(path) as test:\n",
    "        test_data = test.readline()\n",
    "        line_clear = test_data.strip('\\n')\n",
    "        data = line_clear.split(',')\n",
    "        del data[0]\n",
    "    return (data)\n"
   ]
  },
  {
   "cell_type": "markdown",
   "metadata": {},
   "source": [
    "Once you have these headings, you can use them to label the x-axis of your chart! Try calling your `draw_x_axis()` \n",
    "function, passing in the list of years from the file."
   ]
  },
  {
   "cell_type": "code",
   "execution_count": null,
   "metadata": {},
   "outputs": [],
   "source": [
    "#turtle.reset() # clear previous test!\n",
    "list_year = get_years_from_file('us-wealth-share-full.csv')\n",
    "print(list_year)\n",
    "\n",
    "\n",
    "    \n",
    "# call your function here to test it!\n"
   ]
  },
  {
   "cell_type": "markdown",
   "metadata": {},
   "source": [
    "Next you will need to read the _data values_ from the file so that you can draw them on your chart. However, all content from the file will be read as _strings_, so you'll need to do some processing to turn it into numeric data.\n",
    "\n",
    "Define a function **`get_numeric_data_from_file()`** that takes in a _**relative** file path_ to a csv file (a string such as `\"data/test.csv\"`). This function will need to open that file and read its contents; you can use `readline()` or just loop through the lines of the file.\n",
    "\n",
    "For each line _after_ the first (so don't include the heading line!), you'll need to do the following:\n",
    "- _Strip_ off the newline character at the end\n",
    "- _Split_ each line into a list of values\n",
    "- For each element in the line (from index 1 on), convert that element from a string into a number (using `float()`&mdash;they may not be whole numbers). Remember to \"reassign\" the changed value back into the line's list\n",
    "    - Yes, this means you will have a nested loop!\n",
    "    - Be careful that you don't change the first element of the line; that's the \"label\" for the row (which you will need to include).\n",
    "- Append that line list to a list of \"all the lines\" (thereby creating a \"list of lists\").\n",
    "\n",
    "The function will need to **return** this \"list of line values\", which will be a _list of lists_ in which each value is numeric.\n",
    "\n",
    "- Again, remember to open the file using a `with` block\n",
    "- Remember that you can use a `range()` to loop through the _indices_ of a list, rather than its items!\n",
    "- Do *not* use list comprehensions anywhere in this assignment (anything that has a `for` inside of `[]`). Write out the for loop independently.\n",
    "\n",
    "You can test your function again with the `data/test.csv` file. It should return a list of 4 lists&mdash;one for each row. Notice that the values in each of those lists (except the first \"label\") are numbers, not strings:\n",
    "```\n",
    "[['aa', 10.0, 20.0, 30.0, 40.0, 50.0, 60.0, 70.0],\n",
    " ['bb', 80.0, 60.0, 70.0, 50.0, 30.0, 0.0, 90.0],\n",
    " ['ac', 20.0, 0.0, 80.0, 20.0, 0.0, 80.0, 20.0],\n",
    " ['bd', 50.0, 40.0, 30.0, 20.0, 10.0, 10.0, 0.0]]\n",
    "```"
   ]
  },
  {
   "cell_type": "code",
   "execution_count": 12,
   "metadata": {},
   "outputs": [
    {
     "data": {
      "text/plain": [
       "[['aa', 10.0, 20.0, 30.0, 40.0, 50.0, 60.0, 70.0],\n",
       " ['bb', 80.0, 60.0, 70.0, 50.0, 30.0, 0.0, 90.0],\n",
       " ['ac', 20.0, 0.0, 80.0, 20.0, 0.0, 80.0, 20.0],\n",
       " ['bd', 50.0, 40.0, 30.0, 20.0, 10.0, 10.0, 0.0]]"
      ]
     },
     "execution_count": 12,
     "metadata": {},
     "output_type": "execute_result"
    }
   ],
   "source": [
    "def get_numeric_data_from_file(path):\n",
    "    with open(path) as test:\n",
    "        head = test.readline()\n",
    "        line = []\n",
    "        for l in range(1,5):\n",
    "            test_data = test.readline()\n",
    "            line_clear = test_data.strip('\\n')\n",
    "            data = line_clear.split(',')\n",
    "            for i in range(1, len(data)):\n",
    "                data[i] =  float(data[i])\n",
    "            line.append(data)\n",
    "    return(line)\n",
    "\n",
    "\n",
    "get_numeric_data_from_file('test.csv')"
   ]
  },
  {
   "cell_type": "markdown",
   "metadata": {},
   "source": [
    "## Part 3. Charting Data\n",
    "In this final step you'll use the data values you've processed to draw a [**line chart**](https://en.wikipedia.org/wiki/Line_chart) of your time series. By the end, you'll have a function that will be able to use the turtle to visualize any (appropriately formatted) csv file!"
   ]
  },
  {
   "cell_type": "markdown",
   "metadata": {},
   "source": [
    "Define a function **`draw_single_data_series()`** that will be used to draw a _single_ data series (that is: a single line on your chart). This function will take two arguments: a **list** of values (the first element of which is the series name), and a string representing what [_color_](https://docs.python.org/3/library/turtle.html#turtle.color) to draw the line in. The function should use the turtle to draw a single line representing this series.\n",
    "- You should make the drawn line a little [thicker](https://docs.python.org/3/library/turtle.html#turtle.width) than default; 3 pixels wide worked for me.\n",
    "- Your function should use a **loop** to move the turtle from each \"data point\" to the next, connected via a line (leave the pen down!). The [goto()](https://docs.python.org/3/library/turtle.html#turtle.goto) is a practical necessity here.\n",
    "- You will need to calculate where each \"point\" on the line is based on the width and height of the chart in order to tell the turle where to go to.\n",
    "    - _Tip_: For the y-value, think about calculating the _percentage_ of the chart's height, and then moving up that far from the bottom corner. For the x-value, you'll use a similar process to how you draw the x-axis tick marks, so try to copy your math from that!\n",
    "    - This kind of geometric math can be tricky! Please check in if you need help!\n",
    "- Finally: at the right side of each line, your function should have the turtle `write()` the label of the data series (the first element of the list).\n",
    "\n",
    "You can test this function by passing it the first list from the `data/test.csv` file's list of lists (e.g., `test_data[0]`. I recommend also drawing the axes with appropriate label values to make sure everything is where you expect!"
   ]
  },
  {
   "cell_type": "code",
   "execution_count": 13,
   "metadata": {},
   "outputs": [],
   "source": [
    "def draw_single_data_series(list_data, color):\n",
    "    turtle.penup()\n",
    "    turtle.pensize(3)\n",
    "    turtle.pencolor(color)\n",
    "    CHART_HEIGHT = 500\n",
    "    CHART_WIDTH = 600\n",
    "    X_ORIGIN = 80\n",
    "    Y_ORIGIN = 50\n",
    "    X_i = X_ORIGIN\n",
    "    X_len = CHART_WIDTH / (len(list_data)-2)\n",
    "    Y_len = CHART_HEIGHT / 10\n",
    "    turtle.goto(X_ORIGIN, Y_len*list_data[1]/10 + Y_ORIGIN)\n",
    "    turtle.pendown()\n",
    "    for i in range(2,len(list_data)):\n",
    "        y_i = Y_ORIGIN + Y_len*list_data[i]/10\n",
    "        X_i = X_i + X_len\n",
    "        turtle.goto(X_i, y_i)\n",
    "    turtle.write(list_data[0])\n",
    "    turtle.penup()\n",
    "    "
   ]
  },
  {
   "cell_type": "code",
   "execution_count": 15,
   "metadata": {},
   "outputs": [],
   "source": [
    "turtle.reset() # clear previous test!\n",
    "\n",
    "# call your function here to test it!\n"
   ]
  },
  {
   "cell_type": "markdown",
   "metadata": {},
   "source": [
    "Create a variable **`color_palette`** that is a _list_ of 7 or more strings representing [_colors_](https://docs.python.org/3/library/turtle.html#turtle.pencolor) to draw lines in. These can be named colors (e.g., `\"red\"` or `\"blue\"`), or a hex code (such as `\"#33cc8c\"`). [Colorbrewer](http://colorbrewer2.org/) has a nice set of palettes if you need inspiration."
   ]
  },
  {
   "cell_type": "code",
   "execution_count": 16,
   "metadata": {},
   "outputs": [],
   "source": [
    "color_palette = ['#edf8fb','#bfd3e6','#9ebcda','#8c96c6','#8c6bb1','#88419d','#6e016b']\n"
   ]
  },
  {
   "cell_type": "markdown",
   "metadata": {},
   "source": [
    "Finally, define a function **`draw_data_set()`** that takes in two arguments: a _**relative** file path_ to a csv file (a string such as `\"data/test.csv\"`), and a list of colors to draw in. This function should do the following:\n",
    "\n",
    "1. Get the features and data from the specified file\n",
    "2. Draw the chart axes and labels with appropriate values\n",
    "\n",
    "This function should call on your previous functions (indeed, most of its body will be made up of the testing code you've used before!)."
   ]
  },
  {
   "cell_type": "code",
   "execution_count": 21,
   "metadata": {},
   "outputs": [],
   "source": [
    "def draw_data_set(file_path, color):\n",
    "    list_year = get_years_from_file(file_path)\n",
    "    test_data = get_numeric_data_from_file(file_path)\n",
    "    draw_y_axis_line()\n",
    "    draw_y_axis_labels()  \n",
    "    draw_y_axis_ticks() \n",
    "    draw_x_axis(list_year)\n",
    "    for i in range(0,len(test_data)):\n",
    "        draw_single_data_series(test_data[i], color[i+2])\n",
    "\n"
   ]
  },
  {
   "cell_type": "markdown",
   "metadata": {},
   "source": [
    "Call your `draw_data_set()` function, passing in the path to one of the provided CSV files (or one of your own!) and your `color_palette` list. Be sure and click the \"Save Drawing\" button at the top to save a copy for us to see!"
   ]
  },
  {
   "cell_type": "code",
   "execution_count": 22,
   "metadata": {},
   "outputs": [
    {
     "ename": "IndexError",
     "evalue": "list index out of range",
     "output_type": "error",
     "traceback": [
      "\u001b[1;31m---------------------------------------------------------------------------\u001b[0m",
      "\u001b[1;31mIndexError\u001b[0m                                Traceback (most recent call last)",
      "\u001b[1;32m<ipython-input-22-22a2de2d8b8c>\u001b[0m in \u001b[0;36m<module>\u001b[1;34m()\u001b[0m\n\u001b[0;32m      1\u001b[0m \u001b[1;31m#turtle.reset() # clear previous test\u001b[0m\u001b[1;33m\u001b[0m\u001b[1;33m\u001b[0m\u001b[0m\n\u001b[0;32m      2\u001b[0m \u001b[0mturtle\u001b[0m\u001b[1;33m.\u001b[0m\u001b[0mreset\u001b[0m\u001b[1;33m(\u001b[0m\u001b[1;33m)\u001b[0m\u001b[1;33m\u001b[0m\u001b[0m\n\u001b[1;32m----> 3\u001b[1;33m \u001b[0mdraw_data_set\u001b[0m\u001b[1;33m(\u001b[0m\u001b[1;34m'us-wealth-share.csv'\u001b[0m\u001b[1;33m,\u001b[0m\u001b[0mcolor_palette\u001b[0m\u001b[1;33m)\u001b[0m\u001b[1;33m\u001b[0m\u001b[0m\n\u001b[0m\u001b[0;32m      4\u001b[0m \u001b[1;31m# call your function here to test it!\u001b[0m\u001b[1;33m\u001b[0m\u001b[1;33m\u001b[0m\u001b[0m\n",
      "\u001b[1;32m<ipython-input-21-7373b08bb1c3>\u001b[0m in \u001b[0;36mdraw_data_set\u001b[1;34m(file_path, color)\u001b[0m\n\u001b[0;32m      7\u001b[0m     \u001b[0mdraw_x_axis\u001b[0m\u001b[1;33m(\u001b[0m\u001b[0mlist_year\u001b[0m\u001b[1;33m)\u001b[0m\u001b[1;33m\u001b[0m\u001b[0m\n\u001b[0;32m      8\u001b[0m     \u001b[1;32mfor\u001b[0m \u001b[0mi\u001b[0m \u001b[1;32min\u001b[0m \u001b[0mrange\u001b[0m\u001b[1;33m(\u001b[0m\u001b[1;36m0\u001b[0m\u001b[1;33m,\u001b[0m\u001b[0mlen\u001b[0m\u001b[1;33m(\u001b[0m\u001b[0mtest_data\u001b[0m\u001b[1;33m)\u001b[0m\u001b[1;33m)\u001b[0m\u001b[1;33m:\u001b[0m\u001b[1;33m\u001b[0m\u001b[0m\n\u001b[1;32m----> 9\u001b[1;33m         \u001b[0mdraw_single_data_series\u001b[0m\u001b[1;33m(\u001b[0m\u001b[0mtest_data\u001b[0m\u001b[1;33m[\u001b[0m\u001b[0mi\u001b[0m\u001b[1;33m]\u001b[0m\u001b[1;33m,\u001b[0m \u001b[0mcolor\u001b[0m\u001b[1;33m[\u001b[0m\u001b[0mi\u001b[0m\u001b[1;33m+\u001b[0m\u001b[1;36m2\u001b[0m\u001b[1;33m]\u001b[0m\u001b[1;33m)\u001b[0m\u001b[1;33m\u001b[0m\u001b[0m\n\u001b[0m",
      "\u001b[1;32m<ipython-input-13-922520a873d9>\u001b[0m in \u001b[0;36mdraw_single_data_series\u001b[1;34m(list_data, color)\u001b[0m\n\u001b[0;32m     10\u001b[0m     \u001b[0mX_len\u001b[0m \u001b[1;33m=\u001b[0m \u001b[0mCHART_WIDTH\u001b[0m \u001b[1;33m/\u001b[0m \u001b[1;33m(\u001b[0m\u001b[0mlen\u001b[0m\u001b[1;33m(\u001b[0m\u001b[0mlist_data\u001b[0m\u001b[1;33m)\u001b[0m\u001b[1;33m-\u001b[0m\u001b[1;36m2\u001b[0m\u001b[1;33m)\u001b[0m\u001b[1;33m\u001b[0m\u001b[0m\n\u001b[0;32m     11\u001b[0m     \u001b[0mY_len\u001b[0m \u001b[1;33m=\u001b[0m \u001b[0mCHART_HEIGHT\u001b[0m \u001b[1;33m/\u001b[0m \u001b[1;36m10\u001b[0m\u001b[1;33m\u001b[0m\u001b[0m\n\u001b[1;32m---> 12\u001b[1;33m     \u001b[0mturtle\u001b[0m\u001b[1;33m.\u001b[0m\u001b[0mgoto\u001b[0m\u001b[1;33m(\u001b[0m\u001b[0mX_ORIGIN\u001b[0m\u001b[1;33m,\u001b[0m \u001b[0mY_len\u001b[0m\u001b[1;33m*\u001b[0m\u001b[0mlist_data\u001b[0m\u001b[1;33m[\u001b[0m\u001b[1;36m1\u001b[0m\u001b[1;33m]\u001b[0m\u001b[1;33m/\u001b[0m\u001b[1;36m10\u001b[0m \u001b[1;33m+\u001b[0m \u001b[0mY_ORIGIN\u001b[0m\u001b[1;33m)\u001b[0m\u001b[1;33m\u001b[0m\u001b[0m\n\u001b[0m\u001b[0;32m     13\u001b[0m     \u001b[0mturtle\u001b[0m\u001b[1;33m.\u001b[0m\u001b[0mpendown\u001b[0m\u001b[1;33m(\u001b[0m\u001b[1;33m)\u001b[0m\u001b[1;33m\u001b[0m\u001b[0m\n\u001b[0;32m     14\u001b[0m     \u001b[1;32mfor\u001b[0m \u001b[0mi\u001b[0m \u001b[1;32min\u001b[0m \u001b[0mrange\u001b[0m\u001b[1;33m(\u001b[0m\u001b[1;36m2\u001b[0m\u001b[1;33m,\u001b[0m\u001b[0mlen\u001b[0m\u001b[1;33m(\u001b[0m\u001b[0mlist_data\u001b[0m\u001b[1;33m)\u001b[0m\u001b[1;33m)\u001b[0m\u001b[1;33m:\u001b[0m\u001b[1;33m\u001b[0m\u001b[0m\n",
      "\u001b[1;31mIndexError\u001b[0m: list index out of range"
     ]
    }
   ],
   "source": [
    "#turtle.reset() # clear previous test\n",
    "turtle.reset()\n",
    "draw_data_set('us-wealth-share.csv',color_palette)\n",
    "# call your function here to test it!"
   ]
  }
 ],
 "metadata": {
  "kernelspec": {
   "display_name": "Python 3",
   "language": "python",
   "name": "python3"
  },
  "language_info": {
   "codemirror_mode": {
    "name": "ipython",
    "version": 3
   },
   "file_extension": ".py",
   "mimetype": "text/x-python",
   "name": "python",
   "nbconvert_exporter": "python",
   "pygments_lexer": "ipython3",
   "version": "3.7.0"
  }
 },
 "nbformat": 4,
 "nbformat_minor": 2
}
