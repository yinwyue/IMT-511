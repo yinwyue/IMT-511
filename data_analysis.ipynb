{
 "cells": [
  {
   "cell_type": "markdown",
   "metadata": {},
   "source": [
    "# a5 - Data Analysis\n",
    "Fill in the below code cells as specified. Note that cells may utilize variables and functions defined in previous cells; we should be able to use the `Kernal > Restart & Clear All` menu item followed by `Cell > Run All` to execute your entire notebook and see the correct output."
   ]
  },
  {
   "cell_type": "markdown",
   "metadata": {},
   "source": [
    "**IMPORTANT** You are <u>_not_</u> allowed to use comprehensions (a `for` loop inside of `[]` or `{}`) for this assignment. Use regular loops and control structures instead."
   ]
  },
  {
   "cell_type": "markdown",
   "metadata": {},
   "source": [
    "## Part 1. Numbers\n",
    "For this part of the assignment, you will analyze some numeric data (counts of library holdings) to investiate how the distribution of numbers in natural data sets obeys the counter-intuitive [Benford's Law](https://plus.maths.org/content/os/issue9/features/benford/index). <small>(This exercise was adapted from Steve Wolfman).</small>"
   ]
  },
  {
   "cell_type": "markdown",
   "metadata": {},
   "source": [
    "Create a variable **`holdings_data`** which is a **list** of the contents in the **`data/libraryholdings.txt`** file included in the repository (each line in the file will be a single element in the list). You will need to open up the file and read its contents into a list. You must specify a _local path_ to the file from this notebook's location."
   ]
  },
  {
   "cell_type": "code",
   "execution_count": 2,
   "metadata": {},
   "outputs": [],
   "source": [
    "with open(\"data/libraryholdings.txt\") as datafile:\n",
    "    holdings_data = []\n",
    "    for line in datafile:\n",
    "        holdings_data.append(line)"
   ]
  },
  {
   "cell_type": "markdown",
   "metadata": {},
   "source": [
    "Print out the first **ten** items from the `holdings_data` list, each on its own line, in order to see what they are. (Note that there may be extra line breaks that are included in the data items themselves; you are welcome to `strip()` these off)."
   ]
  },
  {
   "cell_type": "code",
   "execution_count": 3,
   "metadata": {},
   "outputs": [
    {
     "name": "stdout",
     "output_type": "stream",
     "text": [
      "(* Library holdings (# of books in each library), *)\n",
      "(* collected by Christian Ayotte.                 *)\n",
      "(* Labels not available.                          *)\n",
      "\n",
      "12201\n",
      "600778\n",
      "14926\n",
      "37863\n",
      "14866\n",
      "9896\n"
     ]
    }
   ],
   "source": [
    "for i in range(0,10):\n",
    "    data = str(holdings_data[i])\n",
    "    print(data.strip('\\n'))"
   ]
  },
  {
   "cell_type": "markdown",
   "metadata": {},
   "source": [
    "Use the **slice operator (`:`)** to remove the \"heading\" and blank elements from the beginning of the data list, leaving only the list of numbers. The remaining values should continue to be stored (so re-assigned) in the `holdings_data` variable. Print the new 0th element of `holdings_data` to demonstrate that it is the first number in the data set (12201).\n",
    "- Note that the values in the list are supposed to be strings rather than an integers; don't convert them!"
   ]
  },
  {
   "cell_type": "code",
   "execution_count": 4,
   "metadata": {},
   "outputs": [
    {
     "name": "stdout",
     "output_type": "stream",
     "text": [
      "12201\n",
      "\n"
     ]
    }
   ],
   "source": [
    "holdings_data = holdings_data[4:]\n",
    "print(holdings_data[0])"
   ]
  },
  {
   "cell_type": "markdown",
   "metadata": {},
   "source": [
    "Create a variable **`lead_digit_counts`** that is a dictionary whose keys are _strings_ of each digit (`\"0\"`, `\"1\"`, `\"2\"`, etc.), and whose values are all the number `0`. You can write out the literal or use a loop. Print out the variable after you create it."
   ]
  },
  {
   "cell_type": "code",
   "execution_count": 5,
   "metadata": {},
   "outputs": [],
   "source": [
    "lead_digit_counts = {\"0\": 0, \"1\": 0, \"2\": 0, \"3\": 0, \"4\": 0, \"5\": 0, \"6\": 0, \"7\": 0, \"8\": 0, \"9\": 0}"
   ]
  },
  {
   "cell_type": "markdown",
   "metadata": {},
   "source": [
    "Calculate the number of times each digit appears as the _first digit_ in a value of the `holdings_data` list, storing those counts in your `lead_digit_counts` dictionary. _Hint:_ loop through all of the items in the data set and for each item add 1 to the appropriate value in the dictionary."
   ]
  },
  {
   "cell_type": "code",
   "execution_count": 6,
   "metadata": {},
   "outputs": [],
   "source": [
    "for number in holdings_data:\n",
    "    lead_digit_counts[number[0]] += 1"
   ]
  },
  {
   "cell_type": "markdown",
   "metadata": {},
   "source": [
    "Use a for loop to print out each count in `lead_digit_counts` with the format:\n",
    "```\n",
    "X values have a leading digit of digit Y\n",
    "```"
   ]
  },
  {
   "cell_type": "code",
   "execution_count": 7,
   "metadata": {},
   "outputs": [
    {
     "name": "stdout",
     "output_type": "stream",
     "text": [
      "0 values have a leading digit of digit 0\n",
      "1 values have a leading digit of digit 3056\n",
      "2 values have a leading digit of digit 1606\n",
      "3 values have a leading digit of digit 1018\n",
      "4 values have a leading digit of digit 801\n",
      "5 values have a leading digit of digit 640\n",
      "6 values have a leading digit of digit 560\n",
      "7 values have a leading digit of digit 502\n",
      "8 values have a leading digit of digit 503\n",
      "9 values have a leading digit of digit 452\n"
     ]
    }
   ],
   "source": [
    "for num, value in lead_digit_counts.items():\n",
    "    print(str(num)+ \" values have a leading digit of digit \" + str(value))"
   ]
  },
  {
   "cell_type": "markdown",
   "metadata": {},
   "source": [
    "Print the _percentage_ of values in the the library holdings data set that have a leading digit **`1`** (rounded to 2 decimal places). Consider: does this value match what is predicted by [Benford's law](https://en.wikipedia.org/wiki/Benford%27s_law)?"
   ]
  },
  {
   "cell_type": "code",
   "execution_count": 8,
   "metadata": {},
   "outputs": [
    {
     "name": "stdout",
     "output_type": "stream",
     "text": [
      "33.44%\n"
     ]
    }
   ],
   "source": [
    "sum_value = 0\n",
    "for num, value in lead_digit_counts.items():\n",
    "    sum_value += value\n",
    "precentage = round(lead_digit_counts['1'] / sum_value , 4)\n",
    "print(str(precentage * 100) + \"%\")\n",
    "\n",
    "#Yes, the Benford's law predicts that number 1 appears as the leading significant digit about 30% of the time. \n",
    "#And number 1 appears 33% of the time in this case. "
   ]
  },
  {
   "cell_type": "markdown",
   "metadata": {},
   "source": [
    "***Extra credit challenge:*** _Only attempt this problem once you have completed everything else!_\n",
    "\n",
    "Create a single variable `digit_position_counts` that contains the number of times that each digit 0 through 9 appears in _each_ position in the data set. E.g., a `1` appears in the 1st position 3056 times and in the second position 1005 times; a `2` appears in the 1st position 1606 times and in the second position 1044 times.\n",
    "\n",
    "Use this variable to print a \"table\" of the percentage of the time each position contains each digit (e.g., the 1st digit is a `1` 33.44% of the time, a `2` 17.57% of the time, etc).\n",
    "\n",
    "Note that for this extra challenge it is up to you to determine an appropriate data structure (e.g., how to combine dictionaries and lists and tuples) for representing this table. Be sure and include comments (with `#`) explaining your work."
   ]
  },
  {
   "cell_type": "code",
   "execution_count": null,
   "metadata": {},
   "outputs": [],
   "source": []
  },
  {
   "cell_type": "markdown",
   "metadata": {},
   "source": [
    "## Part 2. Life Expectancy\n",
    "For this part of the assignment, you'll work with data about the life expectancy (in years) for each country in the world in the years 1960 and 2013. Note that this can be really [fun](http://www.ted.com/talks/hans_rosling_shows_the_best_stats_you_ve_ever_seen.html) data!"
   ]
  },
  {
   "cell_type": "markdown",
   "metadata": {},
   "source": [
    "The data is found in a [.csv](https://en.wikipedia.org/wiki/Comma-separated_values) file **`data/life_expectancy.csv`**.\n",
    "\n",
    "Read in the contents of this data file, and use it to construct a **list** called **`life_expectancy_list`**. Each element in this list should be a **dictionary** (one for each row in the `csv` file) with the following keys and values:\n",
    "\n",
    "- a key `'country'` whose value is the name of the country (as a string)\n",
    "- a key `'le_1960'` whose value is the life expectancy in 1960 (as a float)\n",
    "- a key `'le_2013'` whose value is the life expectancy in 2013 (as a float)\n",
    "\n",
    "Thus the first record should look like:\n",
    "```\n",
    "{'country': 'Aruba', 'le_1960': 65.56936585, 'le_2013': 75.33217073}\n",
    "```\n",
    "\n",
    "You can use a for loop and the `split()` function to construct this list of dictionaries, similar to the process you've done in the last assignment. _Remember to convert the string values into floats using_ `float()`. Alternatively, you may instead use the the **`csv.reader`** function from the `csv` module; see [the documentation](https://docs.python.org/3/library/csv.html#csv.reader) for an example. \n",
    "\n",
    "Print out the _first row_ of your list as a demonstration that you've processed the data correctly."
   ]
  },
  {
   "cell_type": "code",
   "execution_count": 9,
   "metadata": {},
   "outputs": [
    {
     "name": "stdout",
     "output_type": "stream",
     "text": [
      "{'country': 'Aruba', 'le_1960': '65.56936585', 'le_2013': '75.33217073'}\n"
     ]
    }
   ],
   "source": [
    "import csv\n",
    "life_expectancy_list = []\n",
    "dic_life = {}\n",
    "with open(\"data/life_expectancy.csv\", newline = '') as lifedata:\n",
    "    row = csv.reader(lifedata, delimiter = ',')\n",
    "    for r in row:\n",
    "        dic_life = {'country': r[0], 'le_1960':r[3], 'le_2013':r[4]}\n",
    "        life_expectancy_list.append(dic_life)\n",
    "life_expectancy_list.remove(life_expectancy_list[0])\n",
    "print(life_expectancy_list[0])\n",
    "    "
   ]
  },
  {
   "cell_type": "markdown",
   "metadata": {},
   "source": [
    "Add another item to _each_ dictionary in the `life_expectancy_list` whose **key** is `change` and whose **value** is the change in life expectancy from 1960 to 2013. For example, the `change` value for Aruba should be about 9.76280488. Print out the _last_ element of the `life_expectancy_list` to check your work.\n",
    "- _Hint:_ Use a for loop and modify each dictionary in the list!"
   ]
  },
  {
   "cell_type": "code",
   "execution_count": 10,
   "metadata": {},
   "outputs": [
    {
     "name": "stdout",
     "output_type": "stream",
     "text": [
      "{'country': 'Zimbabwe', 'le_1960': '51.54246341', 'le_2013': '59.7734878', 'change': 8.231024389999995}\n"
     ]
    }
   ],
   "source": [
    "for dic in life_expectancy_list:\n",
    "    dic['change'] = float(dic['le_2013'])-float(dic['le_1960'])\n",
    "print(life_expectancy_list[len(life_expectancy_list) -1])"
   ]
  },
  {
   "cell_type": "markdown",
   "metadata": {},
   "source": [
    "Create a variable **`num_small_gain`** that stores the **number of countries** whose life expectancy did not improve by 5 years or more between 1960 and 2013. This will include counties whose life expectancy has worsened (whose change is negative). Print out the `num_small_gain` variable.\n",
    "- _Hint:_ use a for loop to \"tally\" all of the relevant countries."
   ]
  },
  {
   "cell_type": "code",
   "execution_count": 11,
   "metadata": {},
   "outputs": [
    {
     "name": "stdout",
     "output_type": "stream",
     "text": [
      "7\n"
     ]
    }
   ],
   "source": [
    "num_small_gain = 0\n",
    "for dic in life_expectancy_list:\n",
    "    if dic['change']<5:\n",
    "        num_small_gain +=1\n",
    "print(num_small_gain)"
   ]
  },
  {
   "cell_type": "markdown",
   "metadata": {},
   "source": [
    "Define a function **`compare_country_le()`** that takes in the names of _two_ countries, and returns a **tuple** containing the following information (in order):\n",
    "- the name of the country with the greater life expectancy,\n",
    "- the life expectancy in 2013 of that country\n",
    "- the difference between the life expectancies in 2013\n",
    "\n",
    "Use your function to print the comparison between the life expectancies of the _United States_ and _Cuba_.  "
   ]
  },
  {
   "cell_type": "code",
   "execution_count": 12,
   "metadata": {},
   "outputs": [
    {
     "name": "stdout",
     "output_type": "stream",
     "text": [
      "('Cuba', 79.23926829, 0.39780487999999536)\n"
     ]
    }
   ],
   "source": [
    "def compare_country_le(country1, country2):\n",
    "    for dic in life_expectancy_list:\n",
    "        if dic['country'] == country1:\n",
    "            country1value = float(dic['le_2013'])\n",
    "        if dic['country'] == country2:\n",
    "             country2value = float(dic['le_2013'])\n",
    "    diff = abs(country1value - country2value)\n",
    "    if country1value > country2value:\n",
    "        greater = country1\n",
    "        life_expect = country1value\n",
    "    else:\n",
    "        greater = country2\n",
    "        life_expect = country2value\n",
    "    tuple_countries = (greater,life_expect, diff)\n",
    "    return tuple_countries\n",
    "            \n",
    "print(compare_country_le(\"United States\", \"Cuba\"))"
   ]
  },
  {
   "cell_type": "markdown",
   "metadata": {},
   "source": [
    "## Advanced Part 3. Readability\n",
    "\n",
    "> This is an advanced, very challenging set of requirements. If you are intending to pursue the Data Science specialization, you should definitely complete this section. But if that is not your focus that's okay&mdash;your score on this assignment will not be penalized if this section is incomplete.\n",
    "> But we encourage everyone to at least try it out and see how far you get, if only for the practice and experience.\n",
    "\n",
    "For this part of the assignment, you will calculate the [readability](https://en.wikipedia.org/wiki/Readability) of a text document using the [Dale-Chall Readability Formula](http://www.readabilityformulas.com/new-dale-chall-readability-formula.php). This method determines how \"easy\" it is to read a particular (English) document by considering the length of sentences and how many of the words used are \"easy\" to understand (based on a pre-defined list of \"easy\" words).\n",
    "- Note that this part of the assignment involves researching and using an additional set of modules. If you have any questions or get stuck, ask for help!"
   ]
  },
  {
   "cell_type": "markdown",
   "metadata": {},
   "source": [
    "You will first need to load the list of \"easy\" words into memory. This list can be found in the **`data/dale-chall.txt`** file. Open this file and read its entire contents into a **list** variable (e.g., `easy_words_list`), where each element in the list is a single line (word) in the file.\n",
    "\n",
    "Print out the _length_ of this list variable to check your work. It should have 2942 entries (words)."
   ]
  },
  {
   "cell_type": "code",
   "execution_count": 16,
   "metadata": {},
   "outputs": [
    {
     "name": "stdout",
     "output_type": "stream",
     "text": [
      "2942\n"
     ]
    }
   ],
   "source": [
    "with open(\"data/dale-chall.txt\") as file_easywords:\n",
    "    easywords = []\n",
    "    for line in file_easywords:\n",
    "        easywords.append(line.strip(\"\\n\"))\n",
    "print (len(easywords))"
   ]
  },
  {
   "cell_type": "markdown",
   "metadata": {},
   "source": [
    "In order to \"look up\" easy words, convert the easy words list into a **dictionary** (e.g., `easy_words_dict`), where each **key** is a word, and each **value** is `True` (that the word is in the list). Make sure to strip off the newline characters so you do not include them in your keys!"
   ]
  },
  {
   "cell_type": "code",
   "execution_count": 18,
   "metadata": {},
   "outputs": [
    {
     "name": "stdout",
     "output_type": "stream",
     "text": [
      "{'a': True, 'able': True, 'aboard': True, 'about': True, 'above': True, 'absent': True, 'accept': True, 'accident': True, 'account': True, 'ache': True, 'aching': True, 'acorn': True, 'acre': True, 'across': True, 'act': True, 'acts': True, 'add': True, 'address': True, 'admire': True, 'adventure': True, 'afar': True, 'afraid': True, 'after': True, 'afternoon': True, 'afterward': True, 'afterwards': True, 'again': True, 'against': True, 'age': True, 'aged': True, 'ago': True, 'agree': True, 'ah': True, 'ahead': True, 'aid': True, 'aim': True, 'air': True, 'airfield': True, 'airplane': True, 'airport': True, 'airship': True, 'airy': True, 'alarm': True, 'alike': True, 'alive': True, 'all': True, 'alley': True, 'alligator': True, 'allow': True, 'almost': True, 'alone': True, 'along': True, 'aloud': True, 'already': True, 'also': True, 'always': True, 'am': True, 'america': True, 'american': True, 'among': True, 'amount': True, 'an': True, 'and': True, 'angel': True, 'anger': True, 'angry': True, 'animal': True, 'another': True, 'answer': True, 'ant': True, 'any': True, 'anybody': True, 'anyhow': True, 'anyone': True, 'anything': True, 'anyway': True, 'anywhere': True, 'apart': True, 'apartment': True, 'ape': True, 'apiece': True, 'appear': True, 'apple': True, 'april': True, 'apron': True, 'are': True, \"aren't\": True, 'arise': True, 'arithmetic': True, 'arm': True, 'armful': True, 'army': True, 'arose': True, 'around': True, 'arrange': True, 'arrive': True, 'arrived': True, 'arrow': True, 'art': True, 'artist': True, 'as': True, 'ash': True, 'ashes': True, 'aside': True, 'ask': True, 'asleep': True, 'at': True, 'ate': True, 'attack': True, 'attend': True, 'attention': True, 'august': True, 'aunt': True, 'author': True, 'auto': True, 'automobile': True, 'autumn': True, 'avenue': True, 'awake': True, 'awaken': True, 'away': True, 'awful': True, 'awfully': True, 'awhile': True, 'ax': True, 'axe': True, 'baa': True, 'babe': True, 'babies': True, 'back': True, 'background': True, 'backward': True, 'backwards': True, 'bacon': True, 'bad': True, 'badge': True, 'badly': True, 'bag': True, 'bake': True, 'baker': True, 'bakery': True, 'baking': True, 'ball': True, 'balloon': True, 'banana': True, 'band': True, 'bandage': True, 'bang': True, 'banjo': True, 'bank': True, 'banker': True, 'bar': True, 'barber': True, 'bare': True, 'barefoot': True, 'barely': True, 'bark': True, 'barn': True, 'barrel': True, 'base': True, 'baseball': True, 'basement': True, 'basket': True, 'bat': True, 'batch': True, 'bath': True, 'bathe': True, 'bathing': True, 'bathroom': True, 'bathtub': True, 'battle': True, 'battleship': True, 'bay': True, 'be': True, 'beach': True, 'bead': True, 'beam': True, 'bean': True, 'bear': True, 'beard': True, 'beast': True, 'beat': True, 'beating': True, 'beautiful': True, 'beautify': True, 'beauty': True, 'became': True, 'because': True, 'become': True, 'becoming': True, 'bed': True, 'bedbug': True, 'bedroom': True, 'bedspread': True, 'bedtime': True, 'bee': True, 'beech': True, 'beef': True, 'beefsteak': True, 'beehive': True, 'been': True, 'beer': True, 'beet': True, 'before': True, 'beg': True, 'began': True, 'beggar': True, 'begged': True, 'begin': True, 'beginning': True, 'begun': True, 'behave': True, 'behind': True, 'being': True, 'believe': True, 'bell': True, 'belong': True, 'below': True, 'belt': True, 'bench': True, 'bend': True, 'beneath': True, 'bent': True, 'berries': True, 'berry': True, 'beside': True, 'besides': True, 'best': True, 'bet': True, 'better': True, 'between': True, 'bib': True, 'bible': True, 'bicycle': True, 'bid': True, 'big': True, 'bigger': True, 'bill': True, 'billboard': True, 'bin': True, 'bind': True, 'bird': True, 'birth': True, 'birthday': True, 'biscuit': True, 'bit': True, 'bite': True, 'biting': True, 'bitter': True, 'black': True, 'blackberry': True, 'blackbird': True, 'blackboard': True, 'blackness': True, 'blacksmith': True, 'blame': True, 'blank': True, 'blanket': True, 'blast': True, 'blaze': True, 'bleed': True, 'bless': True, 'blessing': True, 'blew': True, 'blind': True, 'blindfold': True, 'blinds': True, 'block': True, 'blood': True, 'bloom': True, 'blossom': True, 'blot': True, 'blow': True, 'blue': True, 'blueberry': True, 'bluebird': True, 'blush': True, 'board': True, 'boast': True, 'boat': True, 'bob': True, 'bobwhite': True, 'bodies': True, 'body': True, 'boil': True, 'boiler': True, 'bold': True, 'bone': True, 'bonnet': True, 'boo': True, 'book': True, 'bookcase': True, 'bookkeeper': True, 'boom': True, 'boot': True, 'born': True, 'borrow': True, 'boss': True, 'both': True, 'bother': True, 'bottle': True, 'bottom': True, 'bought': True, 'bounce': True, 'bow': True, 'bow-wow': True, 'bowl': True, 'box': True, 'boxcar': True, 'boxer': True, 'boxes': True, 'boy': True, 'boyhood': True, 'bracelet': True, 'brain': True, 'brake': True, 'bran': True, 'branch': True, 'brass': True, 'brave': True, 'bread': True, 'break': True, 'breakfast': True, 'breast': True, 'breath': True, 'breathe': True, 'breeze': True, 'brick': True, 'bride': True, 'bridge': True, 'bright': True, 'brightness': True, 'bring': True, 'broad': True, 'broadcast': True, 'broke': True, 'broken': True, 'brook': True, 'broom': True, 'brother': True, 'brought': True, 'brown': True, 'brush': True, 'bubble': True, 'bucket': True, 'buckle': True, 'bud': True, 'buffalo': True, 'bug': True, 'buggy': True, 'build': True, 'building': True, 'built': True, 'bulb': True, 'bull': True, 'bullet': True, 'bum': True, 'bumblebee': True, 'bump': True, 'bun': True, 'bunch': True, 'bundle': True, 'bunny': True, 'burn': True, 'burst': True, 'bury': True, 'bus': True, 'bush': True, 'bushel': True, 'business': True, 'busy': True, 'but': True, 'butcher': True, 'butt': True, 'butter': True, 'buttercup': True, 'butterfly': True, 'buttermilk': True, 'butterscotch': True, 'button': True, 'buttonhole': True, 'buy': True, 'buzz': True, 'by': True, 'bye': True, 'cab': True, 'cabbage': True, 'cabin': True, 'cabinet': True, 'cackle': True, 'cage': True, 'cake': True, 'calendar': True, 'calf': True, 'call': True, 'caller': True, 'calling': True, 'came': True, 'camel': True, 'camp': True, 'campfire': True, 'can': True, \"can't\": True, 'canal': True, 'canary': True, 'candle': True, 'candlestick': True, 'candy': True, 'cane': True, 'cannon': True, 'cannot': True, 'canoe': True, 'canyon': True, 'cap': True, 'cape': True, 'capital': True, 'captain': True, 'car': True, 'card': True, 'cardboard': True, 'care': True, 'careful': True, 'careless': True, 'carelessness': True, 'carload': True, 'carpenter': True, 'carpet': True, 'carriage': True, 'carrot': True, 'carry': True, 'cart': True, 'carve': True, 'case': True, 'cash': True, 'cashier': True, 'castle': True, 'cat': True, 'catbird': True, 'catch': True, 'catcher': True, 'caterpillar': True, 'catfish': True, 'catsup': True, 'cattle': True, 'caught': True, 'cause': True, 'cave': True, 'ceiling': True, 'cell': True, 'cellar': True, 'cent': True, 'center': True, 'cereal': True, 'certain': True, 'certainly': True, 'chain': True, 'chair': True, 'chalk': True, 'champion': True, 'chance': True, 'change': True, 'chap': True, 'charge': True, 'charm': True, 'chart': True, 'chase': True, 'chatter': True, 'cheap': True, 'cheat': True, 'check': True, 'checkers': True, 'cheek': True, 'cheer': True, 'cheese': True, 'cherry': True, 'chest': True, 'chew': True, 'chick': True, 'chicken': True, 'chief': True, 'child': True, 'childhood': True, 'children': True, 'chill': True, 'chilly': True, 'chimney': True, 'chin': True, 'china': True, 'chip': True, 'chipmunk': True, 'chocolate': True, 'choice': True, 'choose': True, 'chop': True, 'chorus': True, 'chose': True, 'chosen': True, 'christen': True, 'christmas': True, 'church': True, 'churn': True, 'cigarette': True, 'circle': True, 'circus': True, 'citizen': True, 'city': True, 'clang': True, 'clap': True, 'class': True, 'classmate': True, 'classroom': True, 'claw': True, 'clay': True, 'clean': True, 'cleaner': True, 'clear': True, 'clerk': True, 'clever': True, 'click': True, 'cliff': True, 'climb': True, 'clip': True, 'cloak': True, 'clock': True, 'close': True, 'closet': True, 'cloth': True, 'clothes': True, 'clothing': True, 'cloud': True, 'cloudy': True, 'clover': True, 'clown': True, 'club': True, 'cluck': True, 'clump': True, 'coach': True, 'coal': True, 'coast': True, 'coat': True, 'cob': True, 'cobbler': True, 'cocoa': True, 'coconut': True, 'cocoon': True, 'cod': True, 'codfish': True, 'coffee': True, 'coffeepot': True, 'coin': True, 'cold': True, 'collar': True, 'college': True, 'color': True, 'colored': True, 'colt': True, 'column': True, 'comb': True, 'come': True, 'comfort': True, 'comic': True, 'coming': True, 'company': True, 'compare': True, 'conductor': True, 'cone': True, 'connect': True, 'coo': True, 'cook': True, 'cooked': True, 'cookie': True, 'cookies': True, 'cooking': True, 'cool': True, 'cooler': True, 'coop': True, 'copper': True, 'copy': True, 'cord': True, 'cork': True, 'corn': True, 'corner': True, 'correct': True, 'cost': True, 'cot': True, 'cottage': True, 'cotton': True, 'couch': True, 'cough': True, 'could': True, \"couldn't\": True, 'count': True, 'counter': True, 'country': True, 'county': True, 'course': True, 'court': True, 'cousin': True, 'cover': True, 'cow': True, 'coward': True, 'cowardly': True, 'cowboy': True, 'cozy': True, 'crab': True, 'crack': True, 'cracker': True, 'cradle': True, 'cramps': True, 'cranberry': True, 'crank': True, 'cranky': True, 'crash': True, 'crawl': True, 'crazy': True, 'cream': True, 'creamy': True, 'creek': True, 'creep': True, 'crept': True, 'cried': True, 'cries': True, 'croak': True, 'crook': True, 'crooked': True, 'crop': True, 'cross': True, 'cross-eyed': True, 'crossing': True, 'crow': True, 'crowd': True, 'crowded': True, 'crown': True, 'cruel': True, 'crumb': True, 'crumble': True, 'crush': True, 'crust': True, 'cry': True, 'cub': True, 'cuff': True, 'cup': True, 'cupboard': True, 'cupful': True, 'cure': True, 'curl': True, 'curly': True, 'curtain': True, 'curve': True, 'cushion': True, 'custard': True, 'customer': True, 'cut': True, 'cute': True, 'cutting': True, 'dab': True, 'dad': True, 'daddy': True, 'daily': True, 'dairy': True, 'daisy': True, 'dam': True, 'damage': True, 'dame': True, 'damp': True, 'dance': True, 'dancer': True, 'dancing': True, 'dandy': True, 'danger': True, 'dangerous': True, 'dare': True, 'dark': True, 'darkness': True, 'darling': True, 'darn': True, 'dart': True, 'dash': True, 'date': True, 'daughter': True, 'dawn': True, 'day': True, 'daybreak': True, 'daytime': True, 'dead': True, 'deaf': True, 'deal': True, 'dear': True, 'death': True, 'december': True, 'decide': True, 'deck': True, 'deed': True, 'deep': True, 'deer': True, 'defeat': True, 'defend': True, 'defense': True, 'delight': True, 'den': True, 'dentist': True, 'depend': True, 'deposit': True, 'describe': True, 'desert': True, 'deserve': True, 'desire': True, 'desk': True, 'destroy': True, 'devil': True, 'dew': True, 'diamond': True, 'did': True, \"didn't\": True, 'die': True, 'died': True, 'dies': True, 'difference': True, 'different': True, 'dig': True, 'dim': True, 'dime': True, 'dine': True, 'ding-dong': True, 'dinner': True, 'dip': True, 'direct': True, 'direction': True, 'dirt': True, 'dirty': True, 'discover': True, 'dish': True, 'dislike': True, 'dismiss': True, 'ditch': True, 'dive': True, 'diver': True, 'divide': True, 'do': True, 'dock': True, 'doctor': True, 'does': True, \"doesn't\": True, 'dog': True, 'doll': True, 'dollar': True, 'dolly': True, \"don't\": True, 'done': True, 'donkey': True, 'door': True, 'doorbell': True, 'doorknob': True, 'doorstep': True, 'dope': True, 'dot': True, 'double': True, 'dough': True, 'dove': True, 'down': True, 'downstairs': True, 'downtown': True, 'dozen': True, 'drag': True, 'drain': True, 'drank': True, 'draw': True, 'drawer': True, 'drawing': True, 'dream': True, 'dress': True, 'dresser': True, 'dressmaker': True, 'drew': True, 'dried': True, 'drift': True, 'drill': True, 'drink': True, 'drip': True, 'drive': True, 'driven': True, 'driver': True, 'drop': True, 'drove': True, 'drown': True, 'drowsy': True, 'drub': True, 'drum': True, 'drunk': True, 'dry': True, 'duck': True, 'due': True, 'dug': True, 'dull': True, 'dumb': True, 'dump': True, 'during': True, 'dust': True, 'dusty': True, 'duty': True, 'dwarf': True, 'dwell': True, 'dwelt': True, 'dying': True, 'each': True, 'eager': True, 'eagle': True, 'ear': True, 'early': True, 'earn': True, 'earth': True, 'east': True, 'eastern': True, 'easy': True, 'eat': True, 'eaten': True, 'edge': True, 'egg': True, 'eh': True, 'eight': True, 'eighteen': True, 'eighth': True, 'eighty': True, 'either': True, 'elbow': True, 'elder': True, 'eldest': True, 'electric': True, 'electricity': True, 'elephant': True, 'eleven': True, 'elf': True, 'elm': True, 'else': True, 'elsewhere': True, 'empty': True, 'end': True, 'ending': True, 'enemy': True, 'engine': True, 'engineer': True, 'english': True, 'enjoy': True, 'enough': True, 'enter': True, 'envelope': True, 'equal': True, 'erase': True, 'eraser': True, 'errand': True, 'escape': True, 'eve': True, 'even': True, 'evening': True, 'ever': True, 'every': True, 'everybody': True, 'everyday': True, 'everyone': True, 'everything': True, 'everywhere': True, 'evil': True, 'exact': True, 'except': True, 'exchange': True, 'excited': True, 'exciting': True, 'excuse': True, 'exit': True, 'expect': True, 'explain': True, 'extra': True, 'eye': True, 'eyebrow': True, 'fable': True, 'face': True, 'facing': True, 'fact': True, 'factory': True, 'fail': True, 'faint': True, 'fair': True, 'fairy': True, 'faith': True, 'fake': True, 'fall': True, 'false': True, 'family': True, 'fan': True, 'fancy': True, 'far': True, 'far-off': True, 'faraway': True, 'fare': True, 'farm': True, 'farmer': True, 'farming': True, 'farther': True, 'fashion': True, 'fast': True, 'fasten': True, 'fat': True, 'father': True, 'fault': True, 'favor': True, 'favorite': True, 'fear': True, 'feast': True, 'feather': True, 'february': True, 'fed': True, 'feed': True, 'feel': True, 'feet': True, 'fell': True, 'fellow': True, 'felt': True, 'fence': True, 'fever': True, 'few': True, 'fib': True, 'fiddle': True, 'field': True, 'fife': True, 'fifteen': True, 'fifth': True, 'fifty': True, 'fig': True, 'fight': True, 'figure': True, 'file': True, 'fill': True, 'film': True, 'finally': True, 'find': True, 'fine': True, 'finger': True, 'finish': True, 'fire': True, 'firearm': True, 'firecracker': True, 'fireplace': True, 'fireworks': True, 'firing': True, 'first': True, 'fish': True, 'fisherman': True, 'fist': True, 'fit': True, 'fits': True, 'five': True, 'fix': True, 'flag': True, 'flake': True, 'flame': True, 'flap': True, 'flash': True, 'flashlight': True, 'flat': True, 'flea': True, 'flesh': True, 'flew': True, 'flies': True, 'flight': True, 'flip': True, 'flip-flop': True, 'float': True, 'flock': True, 'flood': True, 'floor': True, 'flop': True, 'flour': True, 'flow': True, 'flower': True, 'flowery': True, 'flutter': True, 'fly': True, 'foam': True, 'fog': True, 'foggy': True, 'fold': True, 'folks': True, 'follow': True, 'following': True, 'fond': True, 'food': True, 'fool': True, 'foolish': True, 'foot': True, 'football': True, 'footprint': True, 'for': True, 'forehead': True, 'forest': True, 'forget': True, 'forgive': True, 'forgot': True, 'forgotten': True, 'fork': True, 'form': True, 'fort': True, 'forth': True, 'fortune': True, 'forty': True, 'forward': True, 'fought': True, 'found': True, 'fountain': True, 'four': True, 'fourteen': True, 'fourth': True, 'fox': True, 'frame': True, 'free': True, 'freedom': True, 'freeze': True, 'freight': True, 'french': True, 'fresh': True, 'fret': True, 'friday': True, 'fried': True, 'friend': True, 'friendly': True, 'friendship': True, 'frighten': True, 'frog': True, 'from': True, 'front': True, 'frost': True, 'frown': True, 'froze': True, 'fruit': True, 'fry': True, 'fudge': True, 'fuel': True, 'full': True, 'fully': True, 'fun': True, 'funny': True, 'fur': True, 'furniture': True, 'further': True, 'fuzzy': True, 'gain': True, 'gallon': True, 'gallop': True, 'game': True, 'gang': True, 'garage': True, 'garbage': True, 'garden': True, 'gas': True, 'gasoline': True, 'gate': True, 'gather': True, 'gave': True, 'gay': True, 'gear': True, 'geese': True, 'general': True, 'gentle': True, 'gentleman': True, 'gentlemen': True, 'geography': True, 'get': True, 'getting': True, 'giant': True, 'gift': True, 'gingerbread': True, 'girl': True, 'give': True, 'given': True, 'giving': True, 'glad': True, 'gladly': True, 'glance': True, 'glass': True, 'glasses': True, 'gleam': True, 'glide': True, 'glory': True, 'glove': True, 'glow': True, 'glue': True, 'go': True, 'goal': True, 'goat': True, 'gobble': True, 'god': True, 'godmother': True, 'goes': True, 'going': True, 'gold': True, 'golden': True, 'goldfish': True, 'golf': True, 'gone': True, 'good': True, 'good-by': True, 'good-bye': True, 'good-looking': True, 'goodbye': True, 'goodness': True, 'goods': True, 'goody': True, 'goose': True, 'gooseberry': True, 'got': True, 'govern': True, 'government': True, 'gown': True, 'grab': True, 'gracious': True, 'grade': True, 'grain': True, 'grand': True, 'grandchild': True, 'grandchildren': True, 'granddaughter': True, 'grandfather': True, 'grandma': True, 'grandmother': True, 'grandpa': True, 'grandson': True, 'grandstand': True, 'grape': True, 'grapefruit': True, 'grapes': True, 'grass': True, 'grasshopper': True, 'grateful': True, 'grave': True, 'gravel': True, 'graveyard': True, 'gravy': True, 'gray': True, 'graze': True, 'grease': True, 'great': True, 'green': True, 'greet': True, 'grew': True, 'grind': True, 'groan': True, 'grocery': True, 'ground': True, 'group': True, 'grove': True, 'grow': True, 'guard': True, 'guess': True, 'guest': True, 'guide': True, 'gulf': True, 'gum': True, 'gun': True, 'gunpowder': True, 'guy': True, 'ha': True, 'habit': True, 'had': True, \"hadn't\": True, 'hail': True, 'hair': True, 'haircut': True, 'hairpin': True, 'half': True, 'hall': True, 'halt': True, 'ham': True, 'hammer': True, 'hand': True, 'handful': True, 'handkerchief': True, 'handle': True, 'handwriting': True, 'hang': True, 'happen': True, 'happily': True, 'happiness': True, 'happy': True, 'harbor': True, 'hard': True, 'hardly': True, 'hardship': True, 'hardware': True, 'hare': True, 'hark': True, 'harm': True, 'harness': True, 'harp': True, 'harvest': True, 'has': True, \"hasn't\": True, 'haste': True, 'hasten': True, 'hasty': True, 'hat': True, 'hatch': True, 'hatchet': True, 'hate': True, 'haul': True, 'have': True, \"haven't\": True, 'having': True, 'hawk': True, 'hay': True, 'hayfield': True, 'haystack': True, 'he': True, \"he'd\": True, \"he'll\": True, \"he's\": True, 'head': True, 'headache': True, 'heal': True, 'health': True, 'healthy': True, 'heap': True, 'hear': True, 'heard': True, 'hearing': True, 'heart': True, 'heat': True, 'heater': True, 'heaven': True, 'heavy': True, 'heel': True, 'height': True, 'held': True, 'hell': True, 'hello': True, 'helmet': True, 'help': True, 'helper': True, 'helpful': True, 'hem': True, 'hen': True, 'henhouse': True, 'her': True, 'herd': True, 'here': True, \"here's\": True, 'hero': True, 'hers': True, 'herself': True, 'hey': True, 'hickory': True, 'hid': True, 'hidden': True, 'hide': True, 'high': True, 'highway': True, 'hill': True, 'hillside': True, 'hilltop': True, 'hilly': True, 'him': True, 'himself': True, 'hind': True, 'hint': True, 'hip': True, 'hire': True, 'his': True, 'hiss': True, 'history': True, 'hit': True, 'hitch': True, 'hive': True, 'ho': True, 'hoe': True, 'hog': True, 'hold': True, 'holder': True, 'hole': True, 'holiday': True, 'hollow': True, 'holy': True, 'home': True, 'homely': True, 'homesick': True, 'honest': True, 'honey': True, 'honeybee': True, 'honeymoon': True, 'honk': True, 'honor': True, 'hood': True, 'hoof': True, 'hook': True, 'hoop': True, 'hop': True, 'hope': True, 'hopeful': True, 'hopeless': True, 'horn': True, 'horse': True, 'horseback': True, 'horseshoe': True, 'hose': True, 'hospital': True, 'host': True, 'hot': True, 'hotel': True, 'hound': True, 'hour': True, 'house': True, 'housetop': True, 'housewife': True, 'housework': True, 'how': True, 'however': True, 'howl': True, 'hug': True, 'huge': True, 'hum': True, 'humble': True, 'hump': True, 'hundred': True, 'hung': True, 'hunger': True, 'hungry': True, 'hunk': True, 'hunt': True, 'hunter': True, 'hurrah': True, 'hurried': True, 'hurry': True, 'hurt': True, 'husband': True, 'hush': True, 'hut': True, 'hymn': True, 'i': True, \"i'd\": True, \"i'll\": True, \"i'm\": True, \"i've\": True, 'ice': True, 'icy': True, 'idea': True, 'ideal': True, 'if': True, 'ill': True, 'important': True, 'impossible': True, 'improve': True, 'in': True, 'inch': True, 'inches': True, 'income': True, 'indeed': True, 'indian': True, 'indoors': True, 'ink': True, 'inn': True, 'insect': True, 'inside': True, 'instant': True, 'instead': True, 'insult': True, 'intend': True, 'interested': True, 'interesting': True, 'into': True, 'invite': True, 'iron': True, 'is': True, 'island': True, \"isn't\": True, 'it': True, \"it's\": True, 'its': True, 'itself': True, 'ivory': True, 'ivy': True, 'jacket': True, 'jacks': True, 'jail': True, 'jam': True, 'january': True, 'jar': True, 'jaw': True, 'jay': True, 'jelly': True, 'jellyfish': True, 'jerk': True, 'jig': True, 'job': True, 'jockey': True, 'join': True, 'joke': True, 'joking': True, 'jolly': True, 'journey': True, 'joy': True, 'joyful': True, 'joyous': True, 'judge': True, 'jug': True, 'juice': True, 'juicy': True, 'july': True, 'jump': True, 'june': True, 'junior': True, 'junk': True, 'just': True, 'keen': True, 'keep': True, 'kept': True, 'kettle': True, 'key': True, 'kick': True, 'kid': True, 'kill': True, 'killed': True, 'kind': True, 'kindly': True, 'kindness': True, 'king': True, 'kingdom': True, 'kiss': True, 'kitchen': True, 'kite': True, 'kitten': True, 'kitty': True, 'knee': True, 'kneel': True, 'knew': True, 'knife': True, 'knit': True, 'knives': True, 'knob': True, 'knock': True, 'knot': True, 'know': True, 'known': True, 'lace': True, 'lad': True, 'ladder': True, 'ladies': True, 'lady': True, 'laid': True, 'lake': True, 'lamb': True, 'lame': True, 'lamp': True, 'land': True, 'lane': True, 'language': True, 'lantern': True, 'lap': True, 'lard': True, 'large': True, 'lash': True, 'lass': True, 'last': True, 'late': True, 'laugh': True, 'laundry': True, 'law': True, 'lawn': True, 'lawyer': True, 'lay': True, 'lazy': True, 'lead': True, 'leader': True, 'leaf': True, 'leak': True, 'lean': True, 'leap': True, 'learn': True, 'learned': True, 'least': True, 'leather': True, 'leave': True, 'leaving': True, 'led': True, 'left': True, 'leg': True, 'lemon': True, 'lemonade': True, 'lend': True, 'length': True, 'less': True, 'lesson': True, 'let': True, \"let's\": True, 'letter': True, 'letting': True, 'lettuce': True, 'level': True, 'liberty': True, 'library': True, 'lice': True, 'lick': True, 'lid': True, 'lie': True, 'life': True, 'lift': True, 'light': True, 'lightness': True, 'lightning': True, 'like': True, 'likely': True, 'liking': True, 'lily': True, 'limb': True, 'lime': True, 'limp': True, 'line': True, 'linen': True, 'lion': True, 'lip': True, 'list': True, 'listen': True, 'lit': True, 'little': True, 'live': True, 'lively': True, 'liver': True, 'lives': True, 'living': True, 'lizard': True, 'load': True, 'loaf': True, 'loan': True, 'loaves': True, 'lock': True, 'locomotive': True, 'log': True, 'lone': True, 'lonely': True, 'lonesome': True, 'long': True, 'look': True, 'lookout': True, 'loop': True, 'loose': True, 'lord': True, 'lose': True, 'loser': True, 'loss': True, 'lost': True, 'lot': True, 'loud': True, 'love': True, 'lovely': True, 'lover': True, 'low': True, 'luck': True, 'lucky': True, 'lumber': True, 'lump': True, 'lunch': True, 'lying': True, 'ma': True, 'machine': True, 'machinery': True, 'mad': True, 'made': True, 'magazine': True, 'magic': True, 'maid': True, 'mail': True, 'mailbox': True, 'mailman': True, 'major': True, 'make': True, 'making': True, 'male': True, 'mama': True, 'mamma': True, 'man': True, 'manager': True, 'mane': True, 'manger': True, 'many': True, 'map': True, 'maple': True, 'marble': True, 'march': True, 'mare': True, 'mark': True, 'market': True, 'marriage': True, 'married': True, 'marry': True, 'mask': True, 'mast': True, 'master': True, 'mat': True, 'match': True, 'matter': True, 'mattress': True, 'may': True, 'maybe': True, 'mayor': True, 'maypole': True, 'me': True, 'meadow': True, 'meal': True, 'mean': True, 'means': True, 'meant': True, 'measure': True, 'meat': True, 'medicine': True, 'meet': True, 'meeting': True, 'melt': True, 'member': True, 'men': True, 'mend': True, 'meow': True, 'merry': True, 'mess': True, 'message': True, 'met': True, 'metal': True, 'mew': True, 'mice': True, 'middle': True, 'midnight': True, 'might': True, 'mighty': True, 'mile': True, 'miler': True, 'milk': True, 'milkman': True, 'mill': True, 'million': True, 'mind': True, 'mine': True, 'miner': True, 'mint': True, 'minute': True, 'mirror': True, 'mischief': True, 'miss': True, 'misspell': True, 'mistake': True, 'misty': True, 'mitt': True, 'mitten': True, 'mix': True, 'moment': True, 'monday': True, 'money': True, 'monkey': True, 'month': True, 'moo': True, 'moon': True, 'moonlight': True, 'moose': True, 'mop': True, 'more': True, 'morning': True, 'morrow': True, 'moss': True, 'most': True, 'mostly': True, 'mother': True, 'motor': True, 'mount': True, 'mountain': True, 'mouse': True, 'mouth': True, 'move': True, 'movie': True, 'movies': True, 'moving': True, 'mow': True, 'mr.': True, 'mrs.': True, 'much': True, 'mud': True, 'muddy': True, 'mug': True, 'mule': True, 'multiply': True, 'murder': True, 'music': True, 'must': True, 'my': True, 'myself': True, 'nail': True, 'name': True, 'nap': True, 'napkin': True, 'narrow': True, 'nasty': True, 'naughty': True, 'navy': True, 'near': True, 'nearby': True, 'nearly': True, 'neat': True, 'neck': True, 'necktie': True, 'need': True, 'needle': True, \"needn't\": True, 'negro': True, 'neighbor': True, 'neighborhood': True, 'neither': True, 'nerve': True, 'nest': True, 'net': True, 'never': True, 'nevermore': True, 'new': True, 'news': True, 'newspaper': True, 'next': True, 'nibble': True, 'nice': True, 'nickel': True, 'night': True, 'nightgown': True, 'nine': True, 'nineteen': True, 'ninety': True, 'no': True, 'nobody': True, 'nod': True, 'noise': True, 'noisy': True, 'none': True, 'noon': True, 'nor': True, 'north': True, 'northern': True, 'nose': True, 'not': True, 'note': True, 'nothing': True, 'notice': True, 'november': True, 'now': True, 'nowhere': True, 'number': True, 'nurse': True, 'nut': True, \"o'clock\": True, 'oak': True, 'oar': True, 'oatmeal': True, 'oats': True, 'obey': True, 'ocean': True, 'october': True, 'odd': True, 'of': True, 'off': True, 'offer': True, 'office': True, 'officer': True, 'often': True, 'oh': True, 'oil': True, 'old': True, 'old-fashioned': True, 'on': True, 'once': True, 'one': True, 'onion': True, 'only': True, 'onward': True, 'open': True, 'or': True, 'orange': True, 'orchard': True, 'order': True, 'ore': True, 'organ': True, 'other': True, 'otherwise': True, 'ouch': True, 'ought': True, 'our': True, 'ours': True, 'ourselves': True, 'out': True, 'outdoors': True, 'outfit': True, 'outlaw': True, 'outline': True, 'outside': True, 'outward': True, 'oven': True, 'over': True, 'overalls': True, 'overcoat': True, 'overeat': True, 'overhead': True, 'overhear': True, 'overnight': True, 'overturn': True, 'owe': True, 'owing': True, 'owl': True, 'own': True, 'owner': True, 'ox': True, 'pa': True, 'pace': True, 'pack': True, 'package': True, 'pad': True, 'page': True, 'paid': True, 'pail': True, 'pain': True, 'painful': True, 'paint': True, 'painter': True, 'painting': True, 'pair': True, 'pal': True, 'palace': True, 'pale': True, 'pan': True, 'pancake': True, 'pane': True, 'pansy': True, 'pants': True, 'papa': True, 'paper': True, 'parade': True, 'pardon': True, 'parent': True, 'park': True, 'part': True, 'partly': True, 'partner': True, 'party': True, 'pass': True, 'passenger': True, 'past': True, 'paste': True, 'pasture': True, 'pat': True, 'patch': True, 'path': True, 'patter': True, 'pave': True, 'pavement': True, 'paw': True, 'pay': True, 'payment': True, 'pea': True, 'peace': True, 'peaceful': True, 'peach': True, 'peaches': True, 'peak': True, 'peanut': True, 'pear': True, 'pearl': True, 'peas': True, 'peck': True, 'peek': True, 'peel': True, 'peep': True, 'peg': True, 'pen': True, 'pencil': True, 'penny': True, 'people': True, 'pepper': True, 'peppermint': True, 'perfume': True, 'perhaps': True, 'person': True, 'pet': True, 'phone': True, 'piano': True, 'pick': True, 'pickle': True, 'picnic': True, 'picture': True, 'pie': True, 'piece': True, 'pig': True, 'pigeon': True, 'piggy': True, 'pile': True, 'pill': True, 'pillow': True, 'pin': True, 'pine': True, 'pineapple': True, 'pink': True, 'pint': True, 'pipe': True, 'pistol': True, 'pit': True, 'pitch': True, 'pitcher': True, 'pity': True, 'place': True, 'plain': True, 'plan': True, 'plane': True, 'plant': True, 'plate': True, 'platform': True, 'platter': True, 'play': True, 'player': True, 'playground': True, 'playhouse': True, 'playmate': True, 'plaything': True, 'pleasant': True, 'please': True, 'pleasure': True, 'plenty': True, 'plow': True, 'plug': True, 'plum': True, 'pocket': True, 'pocketbook': True, 'poem': True, 'point': True, 'poison': True, 'poke': True, 'pole': True, 'police': True, 'policeman': True, 'polish': True, 'polite': True, 'pond': True, 'ponies': True, 'pony': True, 'pool': True, 'poor': True, 'pop': True, 'popcorn': True, 'popped': True, 'porch': True, 'pork': True, 'possible': True, 'post': True, 'postage': True, 'postman': True, 'pot': True, 'potato': True, 'potatoes': True, 'pound': True, 'pour': True, 'powder': True, 'power': True, 'powerful': True, 'praise': True, 'pray': True, 'prayer': True, 'prepare': True, 'present': True, 'pretty': True, 'price': True, 'prick': True, 'prince': True, 'princess': True, 'print': True, 'prison': True, 'prize': True, 'promise': True, 'proper': True, 'protect': True, 'proud': True, 'prove': True, 'prune': True, 'public': True, 'puddle': True, 'puff': True, 'pull': True, 'pump': True, 'pumpkin': True, 'punch': True, 'punish': True, 'pup': True, 'pupil': True, 'puppy': True, 'pure': True, 'purple': True, 'purse': True, 'push': True, 'puss': True, 'pussy': True, 'pussycat': True, 'put': True, 'putting': True, 'puzzle': True, 'quack': True, 'quart': True, 'quarter': True, 'queen': True, 'queer': True, 'question': True, 'quick': True, 'quickly': True, 'quiet': True, 'quilt': True, 'quit': True, 'quite': True, 'rabbit': True, 'race': True, 'rack': True, 'radio': True, 'radish': True, 'rag': True, 'rail': True, 'railroad': True, 'railway': True, 'rain': True, 'rainbow': True, 'rainy': True, 'raise': True, 'raisin': True, 'rake': True, 'ram': True, 'ran': True, 'ranch': True, 'rang': True, 'rap': True, 'rapidly': True, 'rat': True, 'rate': True, 'rather': True, 'rattle': True, 'raw': True, 'ray': True, 'reach': True, 'read': True, 'reader': True, 'reading': True, 'ready': True, 'real': True, 'really': True, 'reap': True, 'rear': True, 'reason': True, 'rebuild': True, 'receive': True, 'recess': True, 'record': True, 'red': True, 'redbird': True, 'redbreast': True, 'refuse': True, 'reindeer': True, 'rejoice': True, 'remain': True, 'remember': True, 'remind': True, 'remove': True, 'rent': True, 'repair': True, 'repay': True, 'repeat': True, 'report': True, 'rest': True, 'return': True, 'review': True, 'reward': True, 'rib': True, 'ribbon': True, 'rice': True, 'rich': True, 'rid': True, 'riddle': True, 'ride': True, 'rider': True, 'riding': True, 'right': True, 'rim': True, 'ring': True, 'rip': True, 'ripe': True, 'rise': True, 'rising': True, 'river': True, 'road': True, 'roadside': True, 'roar': True, 'roast': True, 'rob': True, 'robber': True, 'robe': True, 'robin': True, 'rock': True, 'rocket': True, 'rocky': True, 'rode': True, 'roll': True, 'roller': True, 'roof': True, 'room': True, 'rooster': True, 'root': True, 'rope': True, 'rose': True, 'rosebud': True, 'rot': True, 'rotten': True, 'rough': True, 'round': True, 'route': True, 'row': True, 'rowboat': True, 'royal': True, 'rub': True, 'rubbed': True, 'rubber': True, 'rubbish': True, 'rug': True, 'rule': True, 'ruler': True, 'rumble': True, 'run': True, 'rung': True, 'runner': True, 'running': True, 'rush': True, 'rust': True, 'rusty': True, 'rye': True, 'sack': True, 'sad': True, 'saddle': True, 'sadness': True, 'safe': True, 'safety': True, 'said': True, 'sail': True, 'sailboat': True, 'sailor': True, 'saint': True, 'salad': True, 'sale': True, 'salt': True, 'same': True, 'sand': True, 'sandwich': True, 'sandy': True, 'sang': True, 'sank': True, 'sap': True, 'sash': True, 'sat': True, 'satin': True, 'satisfactory': True, 'saturday': True, 'sausage': True, 'savage': True, 'save': True, 'savings': True, 'saw': True, 'say': True, 'scab': True, 'scales': True, 'scare': True, 'scarf': True, 'school': True, 'schoolboy': True, 'schoolhouse': True, 'schoolmaster': True, 'schoolroom': True, 'scorch': True, 'score': True, 'scrap': True, 'scrape': True, 'scratch': True, 'scream': True, 'screen': True, 'screw': True, 'scrub': True, 'sea': True, 'seal': True, 'seam': True, 'search': True, 'season': True, 'seat': True, 'second': True, 'secret': True, 'see': True, 'seed': True, 'seeing': True, 'seek': True, 'seem': True, 'seen': True, 'seesaw': True, 'select': True, 'self': True, 'selfish': True, 'sell': True, 'send': True, 'sense': True, 'sent': True, 'sentence': True, 'separate': True, 'september': True, 'servant': True, 'serve': True, 'service': True, 'set': True, 'setting': True, 'settle': True, 'settlement': True, 'seven': True, 'seventeen': True, 'seventh': True, 'seventy': True, 'several': True, 'sew': True, 'shade': True, 'shadow': True, 'shady': True, 'shake': True, 'shaker': True, 'shaking': True, 'shall': True, 'shame': True, \"shan't\": True, 'shape': True, 'share': True, 'sharp': True, 'shave': True, 'she': True, \"she'd\": True, \"she'll\": True, \"she's\": True, 'shear': True, 'shears': True, 'shed': True, 'sheep': True, 'sheet': True, 'shelf': True, 'shell': True, 'shepherd': True, 'shine': True, 'shining': True, 'shiny': True, 'ship': True, 'shirt': True, 'shock': True, 'shoe': True, 'shoemaker': True, 'shone': True, 'shook': True, 'shoot': True, 'shop': True, 'shopping': True, 'shore': True, 'short': True, 'shot': True, 'should': True, 'shoulder': True, \"shouldn't\": True, 'shout': True, 'shovel': True, 'show': True, 'shower': True, 'shut': True, 'shy': True, 'sick': True, 'sickness': True, 'side': True, 'sidewalk': True, 'sideways': True, 'sigh': True, 'sight': True, 'sign': True, 'silence': True, 'silent': True, 'silk': True, 'sill': True, 'silly': True, 'silver': True, 'simple': True, 'sin': True, 'since': True, 'sing': True, 'singer': True, 'single': True, 'sink': True, 'sip': True, 'sir': True, 'sis': True, 'sissy': True, 'sister': True, 'sit': True, 'sitting': True, 'six': True, 'sixteen': True, 'sixth': True, 'sixty': True, 'size': True, 'skate': True, 'skater': True, 'ski': True, 'skin': True, 'skip': True, 'skirt': True, 'sky': True, 'slam': True, 'slap': True, 'slate': True, 'slave': True, 'sled': True, 'sleep': True, 'sleepy': True, 'sleeve': True, 'sleigh': True, 'slept': True, 'slice': True, 'slid': True, 'slide': True, 'sling': True, 'slip': True, 'slipped': True, 'slipper': True, 'slippery': True, 'slit': True, 'slow': True, 'slowly': True, 'sly': True, 'smack': True, 'small': True, 'smart': True, 'smell': True, 'smile': True, 'smoke': True, 'smooth': True, 'snail': True, 'snake': True, 'snap': True, 'snapping': True, 'sneeze': True, 'snow': True, 'snowball': True, 'snowflake': True, 'snowy': True, 'snuff': True, 'snug': True, 'so': True, 'soak': True, 'soap': True, 'sob': True, 'socks': True, 'sod': True, 'soda': True, 'sofa': True, 'soft': True, 'soil': True, 'sold': True, 'soldier': True, 'sole': True, 'some': True, 'somebody': True, 'somehow': True, 'someone': True, 'something': True, 'sometime': True, 'sometimes': True, 'somewhere': True, 'son': True, 'song': True, 'soon': True, 'sore': True, 'sorrow': True, 'sorry': True, 'sort': True, 'soul': True, 'sound': True, 'soup': True, 'sour': True, 'south': True, 'southern': True, 'space': True, 'spade': True, 'spank': True, 'sparrow': True, 'speak': True, 'speaker': True, 'spear': True, 'speech': True, 'speed': True, 'spell': True, 'spelling': True, 'spend': True, 'spent': True, 'spider': True, 'spike': True, 'spill': True, 'spin': True, 'spinach': True, 'spirit': True, 'spit': True, 'splash': True, 'spoil': True, 'spoke': True, 'spook': True, 'spoon': True, 'sport': True, 'spot': True, 'spread': True, 'spring': True, 'springtime': True, 'sprinkle': True, 'square': True, 'squash': True, 'squeak': True, 'squeeze': True, 'squirrel': True, 'stable': True, 'stack': True, 'stage': True, 'stair': True, 'stall': True, 'stamp': True, 'stand': True, 'star': True, 'stare': True, 'start': True, 'starve': True, 'state': True, 'states': True, 'station': True, 'stay': True, 'steak': True, 'steal': True, 'steam': True, 'steamboat': True, 'steamer': True, 'steel': True, 'steep': True, 'steeple': True, 'steer': True, 'stem': True, 'step': True, 'stepping': True, 'stick': True, 'sticky': True, 'stiff': True, 'still': True, 'stillness': True, 'sting': True, 'stir': True, 'stitch': True, 'stock': True, 'stocking': True, 'stole': True, 'stone': True, 'stood': True, 'stool': True, 'stoop': True, 'stop': True, 'stopped': True, 'stopping': True, 'store': True, 'stories': True, 'stork': True, 'storm': True, 'stormy': True, 'story': True, 'stove': True, 'straight': True, 'strange': True, 'stranger': True, 'strap': True, 'straw': True, 'strawberry': True, 'stream': True, 'street': True, 'stretch': True, 'string': True, 'strip': True, 'stripes': True, 'strong': True, 'stuck': True, 'study': True, 'stuff': True, 'stump': True, 'stung': True, 'subject': True, 'such': True, 'suck': True, 'sudden': True, 'suffer': True, 'sugar': True, 'suit': True, 'sum': True, 'summer': True, 'sun': True, 'sunday': True, 'sunflower': True, 'sung': True, 'sunk': True, 'sunlight': True, 'sunny': True, 'sunrise': True, 'sunset': True, 'sunshine': True, 'supper': True, 'suppose': True, 'sure': True, 'surely': True, 'surface': True, 'surprise': True, 'swallow': True, 'swam': True, 'swamp': True, 'swan': True, 'swat': True, 'swear': True, 'sweat': True, 'sweater': True, 'sweep': True, 'sweet': True, 'sweetheart': True, 'sweetness': True, 'swell': True, 'swept': True, 'swift': True, 'swim': True, 'swimming': True, 'swing': True, 'switch': True, 'sword': True, 'swore': True, 'table': True, 'tablecloth': True, 'tablespoon': True, 'tablet': True, 'tack': True, 'tag': True, 'tail': True, 'tailor': True, 'take': True, 'taken': True, 'taking': True, 'tale': True, 'talk': True, 'talker': True, 'tall': True, 'tame': True, 'tan': True, 'tank': True, 'tap': True, 'tape': True, 'tar': True, 'tardy': True, 'task': True, 'taste': True, 'taught': True, 'tax': True, 'tea': True, 'teach': True, 'teacher': True, 'team': True, 'tear': True, 'tease': True, 'teaspoon': True, 'teeth': True, 'telephone': True, 'tell': True, 'temper': True, 'ten': True, 'tennis': True, 'tent': True, 'term': True, 'terrible': True, 'test': True, 'than': True, 'thank': True, 'thankful': True, 'thanks': True, 'thanksgiving': True, 'that': True, \"that's\": True, 'the': True, 'theater': True, 'thee': True, 'their': True, 'them': True, 'then': True, 'there': True, 'these': True, 'they': True, \"they'd\": True, \"they'll\": True, \"they're\": True, \"they've\": True, 'thick': True, 'thief': True, 'thimble': True, 'thin': True, 'thing': True, 'think': True, 'third': True, 'thirsty': True, 'thirteen': True, 'thirty': True, 'this': True, 'thorn': True, 'those': True, 'though': True, 'thought': True, 'thousand': True, 'thread': True, 'three': True, 'threw': True, 'throat': True, 'throne': True, 'through': True, 'throw': True, 'thrown': True, 'thumb': True, 'thunder': True, 'thursday': True, 'thy': True, 'tick': True, 'ticket': True, 'tickle': True, 'tie': True, 'tiger': True, 'tight': True, 'till': True, 'time': True, 'tin': True, 'tinkle': True, 'tiny': True, 'tip': True, 'tiptoe': True, 'tire': True, 'tired': True, 'title': True, 'to': True, 'toad': True, 'toadstool': True, 'toast': True, 'tobacco': True, 'today': True, 'toe': True, 'together': True, 'toilet': True, 'told': True, 'tomato': True, 'tomorrow': True, 'ton': True, 'tone': True, 'tongue': True, 'tonight': True, 'too': True, 'took': True, 'tool': True, 'toot': True, 'tooth': True, 'toothbrush': True, 'toothpick': True, 'top': True, 'tore': True, 'torn': True, 'toss': True, 'touch': True, 'tow': True, 'toward': True, 'towards': True, 'towel': True, 'tower': True, 'town': True, 'toy': True, 'trace': True, 'track': True, 'trade': True, 'train': True, 'tramp': True, 'trap': True, 'tray': True, 'treasure': True, 'treat': True, 'tree': True, 'trick': True, 'tricycle': True, 'tried': True, 'trim': True, 'trip': True, 'trolley': True, 'trouble': True, 'truck': True, 'true': True, 'truly': True, 'trunk': True, 'trust': True, 'truth': True, 'try': True, 'tub': True, 'tuesday': True, 'tug': True, 'tulip': True, 'tumble': True, 'tune': True, 'tunnel': True, 'turkey': True, 'turn': True, 'turtle': True, 'twelve': True, 'twenty': True, 'twice': True, 'twig': True, 'twin': True, 'two': True, 'ugly': True, 'umbrella': True, 'uncle': True, 'under': True, 'understand': True, 'underwear': True, 'undress': True, 'unfair': True, 'unfinished': True, 'unfold': True, 'unfriendly': True, 'unhappy': True, 'unhurt': True, 'uniform': True, 'united': True, 'unkind': True, 'unknown': True, 'unless': True, 'unpleasant': True, 'until': True, 'unwilling': True, 'up': True, 'upon': True, 'upper': True, 'upset': True, 'upside': True, 'upstairs': True, 'uptown': True, 'upward': True, 'us': True, 'use': True, 'used': True, 'useful': True, 'valentine': True, 'valley': True, 'valuable': True, 'value': True, 'vase': True, 'vegetable': True, 'velvet': True, 'very': True, 'vessel': True, 'victory': True, 'view': True, 'village': True, 'vine': True, 'violet': True, 'visit': True, 'visitor': True, 'voice': True, 'vote': True, 'wag': True, 'wagon': True, 'waist': True, 'wait': True, 'wake': True, 'waken': True, 'walk': True, 'wall': True, 'walnut': True, 'want': True, 'war': True, 'warm': True, 'warn': True, 'was': True, 'wash': True, 'washer': True, 'washtub': True, \"wasn't\": True, 'waste': True, 'watch': True, 'watchman': True, 'water': True, 'watermelon': True, 'waterproof': True, 'wave': True, 'wax': True, 'way': True, 'wayside': True, 'we': True, \"we'd\": True, \"we'll\": True, \"we're\": True, \"we've\": True, 'weak': True, 'weaken': True, 'weakness': True, 'wealth': True, 'weapon': True, 'wear': True, 'weary': True, 'weather': True, 'weave': True, 'web': True, 'wedding': True, 'wednesday': True, 'wee': True, 'weed': True, 'week': True, 'weep': True, 'weigh': True, 'welcome': True, 'well': True, 'went': True, 'were': True, 'west': True, 'western': True, 'wet': True, 'whale': True, 'what': True, \"what's\": True, 'wheat': True, 'wheel': True, 'when': True, 'whenever': True, 'where': True, 'which': True, 'while': True, 'whip': True, 'whipped': True, 'whirl': True, 'whiskey': True, 'whisky': True, 'whisper': True, 'whistle': True, 'white': True, 'who': True, \"who'd\": True, \"who'll\": True, \"who's\": True, 'whole': True, 'whom': True, 'whose': True, 'why': True, 'wicked': True, 'wide': True, 'wife': True, 'wiggle': True, 'wild': True, 'wildcat': True, 'will': True, 'willing': True, 'willow': True, 'win': True, 'wind': True, 'windmill': True, 'window': True, 'windy': True, 'wine': True, 'wing': True, 'wink': True, 'winner': True, 'winter': True, 'wipe': True, 'wire': True, 'wise': True, 'wish': True, 'wit': True, 'witch': True, 'with': True, 'without': True, 'woke': True, 'wolf': True, 'woman': True, 'women': True, 'won': True, \"won't\": True, 'wonder': True, 'wonderful': True, 'wood': True, 'wooden': True, 'woodpecker': True, 'woods': True, 'wool': True, 'woolen': True, 'word': True, 'wore': True, 'work': True, 'worker': True, 'workman': True, 'world': True, 'worm': True, 'worn': True, 'worry': True, 'worse': True, 'worst': True, 'worth': True, 'would': True, \"wouldn't\": True, 'wound': True, 'wove': True, 'wrap': True, 'wrapped': True, 'wreck': True, 'wren': True, 'wring': True, 'write': True, 'writing': True, 'written': True, 'wrong': True, 'wrote': True, 'wrung': True, 'yard': True, 'yarn': True, 'year': True, 'yell': True, 'yellow': True, 'yes': True, 'yesterday': True, 'yet': True, 'yolk': True, 'yonder': True, 'you': True, \"you'd\": True, \"you'll\": True, \"you're\": True, \"you've\": True, 'young': True, 'youngster': True, 'your': True, 'yours': True, 'yourself': True, 'yourselves': True, 'youth': True}\n"
     ]
    }
   ],
   "source": [
    "easy_words_dict = {}\n",
    "for word in easywords:\n",
    "    if easy_words_dict.get(word, False) == False :\n",
    "        easy_words_dict[word] = True\n",
    "print(easy_words_dict)"
   ]
  },
  {
   "cell_type": "markdown",
   "metadata": {},
   "source": [
    "Use your `easy_words_dict` to check if the word \"information\" is in the set of easy words. Use the `get()` method to return a value of `False` if the word is not there (instead of producing a `KeyError`). _You don't need to use a loop to do this!_"
   ]
  },
  {
   "cell_type": "code",
   "execution_count": 20,
   "metadata": {},
   "outputs": [
    {
     "data": {
      "text/plain": [
       "False"
      ]
     },
     "execution_count": 20,
     "metadata": {},
     "output_type": "execute_result"
    }
   ],
   "source": [
    "easy_words_dict.get('information', False)"
   ]
  },
  {
   "cell_type": "markdown",
   "metadata": {},
   "source": [
    "Additionally, define a dictionary **`readability_grade_dict`** to use for looking up the \"grade level\" associated with the readability score you eventually compute (see [this table](https://en.wikipedia.org/wiki/Dale%E2%80%93Chall_readability_formula#Formula)). This dictionary should have **keys** that are ___tuples___ giving the range of score for a particular grade (e.g., `(5.0, 5.9)`), and **values** that are ___strings___ representing the grade level of the text (e.g., `\"5th or 6th grade\"`). "
   ]
  },
  {
   "cell_type": "code",
   "execution_count": 41,
   "metadata": {},
   "outputs": [],
   "source": [
    "readability_grade_dict = {(9.0, 9.9): \"13th to 15th grade\", (8.0, 8.9): \"11th or 12th grade\", (7.0, 7.9): \"9th or 10th grade\", (6.0, 6.9): \"7th or 8th grade\",(5.0, 5.9): \"5th or 6th grade\",(0.0, 4.9): \"4th grade or lower\"}\n"
   ]
  },
  {
   "cell_type": "markdown",
   "metadata": {},
   "source": [
    "Define a function **`print_grade()`** that takes in a readability score (a number greater than or equal to 0), and **prints** a string representing the grade associated with that score (from your `readability_grade_dict` dictionary). _Hint:_ you will need to loop through the items in the dictionary and determine which \"tuple\" key has elements that the score falls between. Be sure and round to the nearest decimal when considering the score to avoid errors with `5.95`. Test your function by printing out the \"grade level\" for a score of 6.4."
   ]
  },
  {
   "cell_type": "code",
   "execution_count": 44,
   "metadata": {},
   "outputs": [
    {
     "name": "stdout",
     "output_type": "stream",
     "text": [
      "7th or 8th grade\n"
     ]
    }
   ],
   "source": [
    "def print_grade(score):\n",
    "    score = round(score, 1)\n",
    "    for grade, value in readability_grade_dict.items():\n",
    "        if score > grade[0] and score < grade[1]:\n",
    "            print(value)\n",
    "print_grade(6.4)"
   ]
  },
  {
   "cell_type": "markdown",
   "metadata": {},
   "source": [
    "Calculating the readability score of a document involves considering the individual words and sentences of that document. However, splitting real-world text documents into words and sentences is non-trivial (English is _hard_!)--you need much more than the `split()` method. In order to split up real-world text documents, in this section you will be using the [Natural Language Toolkit (nltk)](http://www.nltk.org/index.html) module. This module is installed along with Anacaonda, but does require some additional data source files to be installed on your computer for it to work properly. You should be able to do this by running the below cell (you only need to run it once):"
   ]
  },
  {
   "cell_type": "code",
   "execution_count": 45,
   "metadata": {},
   "outputs": [
    {
     "name": "stdout",
     "output_type": "stream",
     "text": [
      "[nltk_data] Downloading package punkt to\n",
      "[nltk_data]     C:\\Users\\yinwy\\AppData\\Roaming\\nltk_data...\n",
      "[nltk_data]   Unzipping tokenizers\\punkt.zip.\n",
      "[nltk_data] Downloading package wordnet to\n",
      "[nltk_data]     C:\\Users\\yinwy\\AppData\\Roaming\\nltk_data...\n",
      "[nltk_data]   Unzipping corpora\\wordnet.zip.\n"
     ]
    },
    {
     "data": {
      "text/plain": [
       "True"
      ]
     },
     "execution_count": 45,
     "metadata": {},
     "output_type": "execute_result"
    }
   ],
   "source": [
    "from nltk import download\n",
    "download('punkt')\n",
    "download('wordnet')"
   ]
  },
  {
   "cell_type": "markdown",
   "metadata": {},
   "source": [
    "Now to calculate the readability scores! Define a function **`count_sentences()`** that takes as an argument a _string_ of text (which may contain mutliple sentecnes), and counts the number of sentences in a string. The function should **return** that count (a number). Use the [sent_tokenize()](http://www.nltk.org/api/nltk.tokenize.html#nltk.tokenize.sent_tokenize) function from the `nltk.tokenize` module to break up a string into sentences (this is like the string `split()` function, but it splits into sentences rather than dividing by a specific delimitr).\n",
    "- For help and an example of the `sent_tokenize()` function, see [this guide](http://textminingonline.com/dive-into-nltk-part-ii-sentence-tokenize-and-word-tokenize).\n",
    "- You should *not* do any extra processing beyond that provided by the `sent_tokenize()` function at this point!\n",
    "- Test your function on a simple pair or trio of sentences to make sure it's working correctly."
   ]
  },
  {
   "cell_type": "code",
   "execution_count": 52,
   "metadata": {},
   "outputs": [
    {
     "data": {
      "text/plain": [
       "3"
      ]
     },
     "execution_count": 52,
     "metadata": {},
     "output_type": "execute_result"
    }
   ],
   "source": [
    "import nltk\n",
    "def count_sentences(text):\n",
    "    count = 0\n",
    "    sentence = nltk.tokenize.sent_tokenize(text, language = \"English\")\n",
    "    for line in sentence:\n",
    "        count += 1\n",
    "    return count\n",
    "\n",
    "count_sentences(\"This is a test test. I don't know what to say. This is the end.\")"
   ]
  },
  {
   "cell_type": "markdown",
   "metadata": {},
   "source": [
    "The next thing you'll need to do is to count the number of easy words. Define a function **`count_easy_words()`** that takes as an argument a _list_ of words as an argument and **returns** the number of words that are \"easy\".\n",
    "\n",
    "- Your function should go through each word in the list, and look it up in the `easy_words_dict` you defined earlier (use the `.get()` method!). _Do not look up words in the origninal easy words list_ (the dictionary is much faster!). Be careful to look up lowercase versions of the word (hint: convert the word to lower case.\n",
    "\n",
    "- Your function will also handle detecting different parts of speech (e.g., plurals, different verb conjugations, etc.). You can do this by using the **`WordNetLemmatizer()`** function from the `nltk.stem.wordnet` module&mdash;which produces a \"lemmatizer\" object. You can call the **`lemmatize()`** method on this object to reduce a word to its \"base\" form. See [this example](https://pythonprogramming.net/lemmatizing-nltk-tutorial/) for details. Note that you should reduce words to both their basic noun AND verb forms (meaning you will need to call the `lemmatize()` function twice: once with `'n'` (noun) and once with `'v'` (verb) as the `pos` argument&mdash;and then check if _either_ the noun stem **or** the verb stem is an \"easy word\").\n",
    "\n",
    "- You can test your function on the word list: `['My','words','spoken','have','consequences']`, which should have 4 of the 5 words considered easy (not \"consequences\")."
   ]
  },
  {
   "cell_type": "code",
   "execution_count": 60,
   "metadata": {},
   "outputs": [
    {
     "data": {
      "text/plain": [
       "4"
      ]
     },
     "execution_count": 60,
     "metadata": {},
     "output_type": "execute_result"
    }
   ],
   "source": [
    "from nltk.stem import WordNetLemmatizer\n",
    "lemmatizer = WordNetLemmatizer()\n",
    "\n",
    "def count_easy_words(wordlist):\n",
    "    count = 0\n",
    "    for word in wordlist:\n",
    "        word = word.lower()\n",
    "        word_v = lemmatizer.lemmatize(word,'v')\n",
    "        word_n = lemmatizer.lemmatize(word,'n')\n",
    "        if easy_words_dict.get(word_v,False) or easy_words_dict.get(word_n,False):\n",
    "            count += 1\n",
    "    return count\n",
    "count_easy_words(['My','words','spoken','have','consequences'])"
   ]
  },
  {
   "cell_type": "markdown",
   "metadata": {},
   "source": [
    "As with sentences, splitting up natural language into a list of words is tricky because of complex punctuation, contractions, etc. Thus you should use the below `extract_words()` function to \"split\" the text into a list of words to consider. This will handle punctuation/etc. in a consistent (if not overly robust) way.\n",
    "- Thus function uses the the [word_tokenize()](http://www.nltk.org/api/nltk.tokenize.html#nltk.tokenize.word_tokenize) function from the `nltk.tokenize` module to break up the string into words. It includes each punctuation character (e.g., commas, periods) as individual \"words\"; the `extract_words()` function removes these from consideration so you don't need to worry about them."
   ]
  },
  {
   "cell_type": "code",
   "execution_count": 71,
   "metadata": {},
   "outputs": [],
   "source": [
    "from nltk.tokenize import word_tokenize\n",
    "def extract_words(text):\n",
    "    raw_words = word_tokenize(text)\n",
    "    words = []\n",
    "    for word in raw_words:\n",
    "        if(word[0].isalpha()):\n",
    "            words.append(word)\n",
    "    return words\n"
   ]
  },
  {
   "cell_type": "markdown",
   "metadata": {},
   "source": [
    "Finally, define a function **`calculate_readability_score()`** that takes in a string of text and returns a readability \"score\" (a number) for the test based on the [Dale-Chall readability formula](https://en.wikipedia.org/wiki/Dale%E2%80%93Chall_readability_formula#Formula). Call your previous functions to calculate the number of sentences, total words, and number of difficult (not easy) words:\n",
    "- Start by counting the number of sentences, then by extracting the words and counting the number of easy ones. Follow the formula to weight these values together. \n",
    "- Don't forget to adjust the score if the text if more than 5% of the words in the text are difficult!"
   ]
  },
  {
   "cell_type": "code",
   "execution_count": 85,
   "metadata": {},
   "outputs": [],
   "source": [
    "def calculate_readability_score(text):\n",
    "    sentence_count = count_sentences(text)\n",
    "    print(\"Count Sentence = \"+ str(sentence_count))\n",
    "    text_word = extract_words(text)\n",
    "    word_count = len(text_word)\n",
    "    print('Count Total Words: ' + str(word_count))\n",
    "    easy_word_count = count_easy_words(text_word)\n",
    "    diff_word_count = word_count - easy_word_count\n",
    "    print('Count Difficult words: '+ str(diff_word_count))\n",
    "    score = 0.1579 * ((diff_word_count / word_count)*100) + 0.0496 * word_count / sentence_count  #raw score\n",
    "    if diff_word_count / word_count > 0.05:\n",
    "        score = score + 3.6365  #adjust score\n",
    "    return(round(score,1))\n"
   ]
  },
  {
   "cell_type": "markdown",
   "metadata": {},
   "source": [
    "Read in the text of the `data/alice.txt` file (the full text of Alice in Wonderland) _as a single string_ (use the `.read()` method). "
   ]
  },
  {
   "cell_type": "code",
   "execution_count": 76,
   "metadata": {},
   "outputs": [],
   "source": [
    "with open(\"data/alice.txt\",encoding = 'UTF-8') as Alice:\n",
    "    alice = Alice.read()"
   ]
  },
  {
   "cell_type": "markdown",
   "metadata": {},
   "source": [
    "Calculate the readability score for the `alice.txt` file and print it out. Then use your `calculate_readability_score()` function to print out the reading grade associated with that score. Use your previously-defined functions!\n",
    "- For testing, my calculations show `alice.txt` has 977 sentences and 27199 words, of which 3611 are difficult. This leads to a readability score of ~7.113. Note that it's okay if your numbers are slightly off; different operating systems or slightly different approaches can produce different counts because of how `ntlk` works."
   ]
  },
  {
   "cell_type": "code",
   "execution_count": 86,
   "metadata": {},
   "outputs": [
    {
     "name": "stdout",
     "output_type": "stream",
     "text": [
      "Count Sentence = 977\n",
      "Count Total Words: 27199\n",
      "Count Difficult words: 3611\n",
      "7.1\n",
      "9th or 10th grade\n"
     ]
    }
   ],
   "source": [
    "score = calculate_readability_score(alice)\n",
    "print(score)\n",
    "print_grade(score)"
   ]
  },
  {
   "cell_type": "markdown",
   "metadata": {},
   "source": [
    "_Note that this result may not be an especially accurate model of a text's readability&mdash;after all, it's just based on a simple estimation!_"
   ]
  }
 ],
 "metadata": {
  "kernelspec": {
   "display_name": "Python 3",
   "language": "python",
   "name": "python3"
  },
  "language_info": {
   "codemirror_mode": {
    "name": "ipython",
    "version": 3
   },
   "file_extension": ".py",
   "mimetype": "text/x-python",
   "name": "python",
   "nbconvert_exporter": "python",
   "pygments_lexer": "ipython3",
   "version": "3.7.0"
  },
  "toc": {
   "colors": {
    "hover_highlight": "#DAA520",
    "running_highlight": "#FF0000",
    "selected_highlight": "#FFD700"
   },
   "moveMenuLeft": true,
   "nav_menu": {
    "height": "84px",
    "width": "252px"
   },
   "navigate_menu": true,
   "number_sections": true,
   "sideBar": true,
   "threshold": 4,
   "toc_cell": false,
   "toc_section_display": "block",
   "toc_window_display": false,
   "widenNotebook": false
  }
 },
 "nbformat": 4,
 "nbformat_minor": 2
}
